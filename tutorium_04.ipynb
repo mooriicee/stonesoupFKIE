{
 "cells": [
  {
   "cell_type": "markdown",
   "metadata": {
    "collapsed": true,
    "pycharm": {
     "name": "#%% md\n"
    }
   },
   "source": [
    "<h1 align=\"center\"> Sensordatenfusion Tutorium 04 </h1>\n",
    "\n",
    "<h3 align=\"center\"> Messmodel und Updater </h3>"
   ]
  },
  {
   "cell_type": "code",
   "execution_count": 23,
   "outputs": [],
   "source": [
    "import scipy as sp\n",
    "import numpy as np\n",
    "from scipy.stats import multivariate_normal\n",
    "\n",
    "from stonesoup.base import Property\n",
    "from stonesoup.types.array import CovarianceMatrix\n",
    "from stonesoup.models.base import LinearModel, GaussianModel\n",
    "from stonesoup.models.measurement.base import MeasurementModel"
   ],
   "metadata": {
    "collapsed": false,
    "pycharm": {
     "name": "#%%\n",
     "is_executing": false
    }
   }
  },
  {
   "cell_type": "markdown",
   "source": [
    "<h3 align=\"center\"> Messmodell erstellen </h3>"
   ],
   "metadata": {
    "collapsed": false,
    "pycharm": {
     "name": "#%% md\n",
     "is_executing": false
    }
   }
  },
  {
   "cell_type": "code",
   "execution_count": null,
   "outputs": [],
   "source": [
    "class SDFMessmodell(MeasurementModel, LinearModel, GaussianModel):\n",
    "    \n",
    "    @property\n",
    "    def ndim_meas(self):\n",
    "        return 2\n",
    "    \n",
    "    def matrix(self, **kwargs):\n",
    "        # model_matrix = np.array([[\"\"\"Erste Zeile der Messmatrix\"\"\"], [\"\"\" Zweite Zeile der Messmatrix\"\"\"]])\n",
    "        model_matrix = np.array([[1, 0, 0, 0], [0, 0, 1, 0]])\n",
    "        return model_matrix\n",
    "    \n",
    "    def covar(self):\n",
    "        # return  np.array([[\"\"\"Erste Zeile der Rauschmatrix R\"\"\"], [\"\"\"Zweite Zeile der Rauchmatrix R\"\"\"]])\n",
    "        return np.array([[0.75, 0],[0, 0.75]])\n",
    "    \n",
    "    def rvs(self):\n",
    "        # sample ziehen aus der Kovarianzmatrix\n",
    "        noise = multivariate_normal.rvs(sp.zeros(self.ndim_meas), self.covar(), 1)\n",
    "        return noise.reshape((-1, 1))\n",
    "    \n",
    "    def pdf(self):\n",
    "        pass\n",
    "    \n",
    "    \n",
    "    "
   ],
   "metadata": {
    "collapsed": false,
    "pycharm": {
     "name": "#%%\n"
    }
   }
  },
  {
   "cell_type": "code",
   "execution_count": 25,
   "outputs": [],
   "source": [
    "messmodell = SDFMessmodell(4, (0, 2))"
   ],
   "metadata": {
    "collapsed": false,
    "pycharm": {
     "name": "#%%\n",
     "is_executing": false
    }
   }
  },
  {
   "cell_type": "code",
   "execution_count": 26,
   "outputs": [
    {
     "data": {
      "text/plain": "array([[1, 0, 0, 0],\n       [0, 0, 1, 0]])"
     },
     "metadata": {},
     "output_type": "execute_result",
     "execution_count": 26
    }
   ],
   "source": [
    "messmodell.matrix()"
   ],
   "metadata": {
    "collapsed": false,
    "pycharm": {
     "name": "#%%\n",
     "is_executing": false
    }
   }
  },
  {
   "cell_type": "code",
   "execution_count": 27,
   "outputs": [
    {
     "data": {
      "text/plain": "array([[0.75, 0.  ],\n       [0.  , 0.75]])"
     },
     "metadata": {},
     "output_type": "execute_result",
     "execution_count": 27
    }
   ],
   "source": [
    "messmodell.covar()"
   ],
   "metadata": {
    "collapsed": false,
    "pycharm": {
     "name": "#%%\n",
     "is_executing": false
    }
   }
  },
  {
   "cell_type": "code",
   "execution_count": 28,
   "outputs": [
    {
     "name": "stdout",
     "text": [
      "[[-0.49726351]\n [ 0.33421274]]\n"
     ],
     "output_type": "stream"
    }
   ],
   "source": [
    "print(messmodell.rvs())"
   ],
   "metadata": {
    "collapsed": false,
    "pycharm": {
     "name": "#%%\n",
     "is_executing": false
    }
   }
  },
  {
   "cell_type": "markdown",
   "source": [
    "<h3 align=\"center\"> Updater erstellen </h3>"
   ],
   "metadata": {
    "collapsed": false,
    "pycharm": {
     "name": "#%% md\n"
    }
   }
  },
  {
   "cell_type": "code",
   "execution_count": 29,
   "outputs": [],
   "source": [
    "from functools import lru_cache\n",
    "\n",
    "from stonesoup.updater.base import Updater\n",
    "from stonesoup.base import Property\n",
    "from stonesoup.types.hypothesis import SingleHypothesis\n",
    "from stonesoup.types.prediction import GaussianMeasurementPrediction\n",
    "from stonesoup.types.update import GaussianStateUpdate\n",
    "\n",
    "class SDFUpdater(Updater):\n",
    "    \n",
    "    @lru_cache\n",
    "    def get_measurement_prediction(self, state_prediction, measurement_model=None, **kwargs):\n",
    "        measurement_matrix = measurement_model.matrix()\n",
    "        measurement_noise_covar = measurement_model.covar()\n",
    "        state_prediction_mean = state_prediction.mean\n",
    "        state_prediction_covar = state_prediction.covar\n",
    "        \n",
    "        \n",
    "        \n",
    "        messprediction = measurement_matrix@state_prediction_mean\n",
    "        kalman_gain = measurement_matrix@state_prediction_covar@measurement_matrix.T + measurement_noise_covar\n",
    "        Pxy = state_prediction_covar@measurement_matrix.T\n",
    "        \n",
    "        return GaussianMeasurementPrediction(messprediction, kalman_gain,\n",
    "                                             state_prediction.timestamp,\n",
    "                                             Pxy)\n",
    "        \n",
    "        \n",
    "    def update(self, hypothesis, **kwargs):\n",
    "        measurement_matrix = self.measurement_model.matrix()"
   ],
   "metadata": {
    "collapsed": false,
    "pycharm": {
     "name": "#%%\n",
     "is_executing": false
    }
   }
  }
 ],
 "metadata": {
  "kernelspec": {
   "name": "pycharm-279e87eb",
   "language": "python",
   "display_name": "PyCharm (stonesoupFKIE)"
  },
  "language_info": {
   "codemirror_mode": {
    "name": "ipython",
    "version": 2
   },
   "file_extension": ".py",
   "mimetype": "text/x-python",
   "name": "python",
   "nbconvert_exporter": "python",
   "pygments_lexer": "ipython2",
   "version": "2.7.6"
  },
  "pycharm": {
   "stem_cell": {
    "cell_type": "raw",
    "source": [],
    "metadata": {
     "collapsed": false
    }
   }
  }
 },
 "nbformat": 4,
 "nbformat_minor": 0
}