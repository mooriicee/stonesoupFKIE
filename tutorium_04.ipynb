{
 "cells": [
  {
   "cell_type": "markdown",
   "metadata": {
    "collapsed": true,
    "pycharm": {
     "name": "#%% md\n"
    }
   },
   "source": [
    "<h1 align=\"center\"> Sensordatenfusion Tutorium 04 </h1>\n",
    "\n",
    "<h3 align=\"center\"> Messmodel und Updater </h3>"
   ]
  },
  {
   "cell_type": "markdown",
   "source": [
    "Ziel dieses Tutoriums ist es, $x_{k|k}$ und $P_{k|k}$ zu erhalten. \n",
    "Dies wird ermöglicht durch eine neue Messung $z_k$. \n",
    "Zudem benötigen wir noch die Messmatrix $H_k$ und ein Rauschen $R_k$.\n",
    "\n",
    "Das Vorgehen in der Filterung ist nun folgendes:\n",
    "\n",
    "(1) Berechnung der Innovation $v_{k|k-1}$ und ihrer Kovarianz $S_{k|k-1}$ \n",
    "\n",
    "  $v_{k|k-1}$ = $z_k$ - $H_k x_{k|k-1}$\n",
    "  \n",
    "  $S_{k|k-1}$ = $H_k P_{k|k-1} H^T_k$ + $R_k$\n",
    "  \n",
    "(2) Berechnung der Gewichtsmatrix $W_{k|k-1}$  \n",
    "\n",
    "  $W_{k|k-1}$ = $P_{k|k-1} H^T_k S_{k|k-1}$\n",
    "\n",
    "\n",
    "(3) Berechnung $x_{k|k}$ und $P_{k|k}$\n",
    "\n",
    "  $x_{k|k}$ = $x_{k|k-1} + W_{k|k-1} v_{k|k-1}$ \n",
    "  \n",
    "  $P_{k|k}$ = $P_{k|k-1} - W_{k|k-1} S_{k|k-1} W^T_{k|k-1}$"
   ],
   "metadata": {
    "collapsed": false,
    "pycharm": {
     "name": "#%% md\n"
    }
   }
  },
  {
   "cell_type": "code",
   "execution_count": 23,
   "outputs": [],
   "source": [
    "import scipy as sp\n",
    "import numpy as np\n",
    "from scipy.stats import multivariate_normal\n",
    "\n",
    "from stonesoup.base import Property\n",
    "from stonesoup.types.array import CovarianceMatrix\n",
    "from stonesoup.models.base import LinearModel, GaussianModel\n",
    "from stonesoup.models.measurement.base import MeasurementModel"
   ],
   "metadata": {
    "collapsed": false,
    "pycharm": {
     "name": "#%%\n",
     "is_executing": false
    }
   }
  },
  {
   "cell_type": "markdown",
   "source": [
    "<h3 align=\"center\"> Messmodell erstellen </h3>"
   ],
   "metadata": {
    "collapsed": false,
    "pycharm": {
     "name": "#%% md\n",
     "is_executing": false
    }
   }
  },
  {
   "cell_type": "code",
   "execution_count": null,
   "outputs": [],
   "source": [
    "class SDFMessmodell(MeasurementModel, LinearModel, GaussianModel):\n",
    "    \n",
    "    @property\n",
    "    def ndim_meas(self):\n",
    "        return 2\n",
    "    \n",
    "    def matrix(self, **kwargs):\n",
    "        # model_matrix = np.array([[\"\"\"Erste Zeile der Messmatrix\"\"\"], [\"\"\" Zweite Zeile der Messmatrix\"\"\"]])\n",
    "        model_matrix = np.array([[1, 0, 0, 0], [0, 0, 1, 0]])\n",
    "        return model_matrix\n",
    "    \n",
    "    def covar(self):\n",
    "        # return  np.array([[\"\"\"Erste Zeile der Rauschmatrix R\"\"\"], [\"\"\"Zweite Zeile der Rauchmatrix R\"\"\"]])\n",
    "        return np.array([[0.75, 0],[0, 0.75]])\n",
    "    \n",
    "    def rvs(self):\n",
    "        # sample ziehen aus der Kovarianzmatrix\n",
    "        noise = multivariate_normal.rvs(sp.zeros(self.ndim_meas), self.covar(), 1)\n",
    "        return noise.reshape((-1, 1))\n",
    "    \n",
    "    def pdf(self):\n",
    "        pass\n",
    "    \n",
    "    \n",
    "    "
   ],
   "metadata": {
    "collapsed": false,
    "pycharm": {
     "name": "#%%\n"
    }
   }
  },
  {
   "cell_type": "code",
   "execution_count": 25,
   "outputs": [],
   "source": [
    "messmodell = SDFMessmodell(4, (0, 2))"
   ],
   "metadata": {
    "collapsed": false,
    "pycharm": {
     "name": "#%%\n",
     "is_executing": false
    }
   }
  },
  {
   "cell_type": "code",
   "execution_count": 26,
   "outputs": [
    {
     "data": {
      "text/plain": "array([[1, 0, 0, 0],\n       [0, 0, 1, 0]])"
     },
     "metadata": {},
     "output_type": "execute_result",
     "execution_count": 26
    }
   ],
   "source": [
    "messmodell.matrix()"
   ],
   "metadata": {
    "collapsed": false,
    "pycharm": {
     "name": "#%%\n",
     "is_executing": false
    }
   }
  },
  {
   "cell_type": "code",
   "execution_count": 27,
   "outputs": [
    {
     "data": {
      "text/plain": "array([[0.75, 0.  ],\n       [0.  , 0.75]])"
     },
     "metadata": {},
     "output_type": "execute_result",
     "execution_count": 27
    }
   ],
   "source": [
    "messmodell.covar()"
   ],
   "metadata": {
    "collapsed": false,
    "pycharm": {
     "name": "#%%\n",
     "is_executing": false
    }
   }
  },
  {
   "cell_type": "code",
   "execution_count": 28,
   "outputs": [
    {
     "name": "stdout",
     "text": [
      "[[-0.49726351]\n [ 0.33421274]]\n"
     ],
     "output_type": "stream"
    }
   ],
   "source": [
    "print(messmodell.rvs())"
   ],
   "metadata": {
    "collapsed": false,
    "pycharm": {
     "name": "#%%\n",
     "is_executing": false
    }
   }
  },
  {
   "cell_type": "markdown",
   "source": [
    "<h3 align=\"center\"> Imports für den Updater </h3>"
   ],
   "metadata": {
    "collapsed": false,
    "pycharm": {
     "name": "#%% md\n"
    }
   }
  },
  {
   "cell_type": "code",
   "execution_count": 29,
   "outputs": [],
   "source": [
    "from functools import lru_cache\n",
    "\n",
    "from stonesoup.updater.base import Updater\n",
    "from stonesoup.base import Property\n",
    "from stonesoup.types.hypothesis import SingleHypothesis\n",
    "from stonesoup.types.prediction import GaussianMeasurementPrediction\n",
    "from stonesoup.types.update import GaussianStateUpdate"
   ],
   "metadata": {
    "collapsed": false,
    "pycharm": {
     "name": "#%%\n",
     "is_executing": false
    }
   }
  },
  {
   "cell_type": "markdown",
   "source": [
    "<h3 align=\"center\"> Updater erstellen </h3>"
   ],
   "metadata": {
    "collapsed": false,
    "pycharm": {
     "name": "#%% md\n"
    }
   }
  },
  {
   "cell_type": "code",
   "execution_count": null,
   "outputs": [],
   "source": [
    "class SDFUpdater(Updater):\n",
    "    messprediction = None  # erwartete Messung\n",
    "    S = None  # erwartete Messkovarianz\n",
    "    Pxy = None  # \n",
    "\n",
    "    @lru_cache()\n",
    "    def get_measurement_prediction(self, state_prediction, measurement_model=SDFMessmodell(4, (0, 2), np.array([[0.75, 0], [0, 0.75]])), **kwargs):\n",
    "        measurement_matrix = measurement_model.matrix()\n",
    "        measurement_noise_covar = measurement_model.covar()\n",
    "        state_prediction_mean = state_prediction.mean\n",
    "        state_prediction_covar = state_prediction.covar\n",
    "\n",
    "        self.messprediction = measurement_matrix @ state_prediction_mean\n",
    "        self.S = measurement_matrix @ state_prediction_covar @ measurement_matrix.T + measurement_noise_covar\n",
    "        self.Pxy = state_prediction_covar @ measurement_matrix.T\n",
    "\n",
    "        return GaussianMeasurementPrediction(self.messprediction, self.S,\n",
    "                                             state_prediction.timestamp,\n",
    "                                             self.Pxy)\n",
    "\n",
    "    def update(self, hypothesis, measurementmodel, **kwargs):\n",
    "        test = self.get_measurement_prediction(hypothesis.prediction, measurementmodel)     # damit messprediction, kamalngain etc berechnet werden\n",
    "        W = self.Pxy @ np.linalg.pinv(self.S)\n",
    "        x_post = hypothesis.prediction.mean + W @ (hypothesis.measurement.state_vector - self.messprediction)\n",
    "        P_post = hypothesis.prediction.covar - (W @ self.S @ W.T)  # Dimensionen passen nicht\n",
    "        # P_post = (P_post + P_post.T) / 2\n",
    "\n",
    "        posterior_mean = x_post\n",
    "        posterior_covar = P_post\n",
    "        meas_pred_mean = self.messprediction\n",
    "        meas_pred_covar = self.S\n",
    "        cross_covar = self.Pxy\n",
    "        _ = W\n",
    "\n",
    "        # Augment hypothesis with measurement prediction\n",
    "        hypothesis = SingleHypothesis(hypothesis.prediction,\n",
    "                                      hypothesis.measurement,\n",
    "                                      GaussianMeasurementPrediction(\n",
    "                                          meas_pred_mean, meas_pred_covar,\n",
    "                                          hypothesis.prediction.timestamp,\n",
    "                                          cross_covar)\n",
    "                                      )\n",
    "\n",
    "        return GaussianStateUpdate(posterior_mean,\n",
    "                                   posterior_covar,\n",
    "                                   hypothesis,\n",
    "                                   hypothesis.measurement.timestamp)"
   ],
   "metadata": {
    "collapsed": false,
    "pycharm": {
     "name": "#%%\n"
    }
   }
  }
 ],
 "metadata": {
  "kernelspec": {
   "name": "pycharm-279e87eb",
   "language": "python",
   "display_name": "PyCharm (stonesoupFKIE)"
  },
  "language_info": {
   "codemirror_mode": {
    "name": "ipython",
    "version": 2
   },
   "file_extension": ".py",
   "mimetype": "text/x-python",
   "name": "python",
   "nbconvert_exporter": "python",
   "pygments_lexer": "ipython2",
   "version": "2.7.6"
  },
  "pycharm": {
   "stem_cell": {
    "cell_type": "raw",
    "source": [],
    "metadata": {
     "collapsed": false
    }
   }
  }
 },
 "nbformat": 4,
 "nbformat_minor": 0
}