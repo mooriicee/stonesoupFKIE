{
 "cells": [
  {
   "cell_type": "markdown",
   "metadata": {
    "collapsed": true,
    "pycharm": {
     "name": "#%% md\n"
    }
   },
   "source": [
    "<h1 align=\"center\"> Sensordatenfusion Tutorium 04 </h1>\n",
    "\n",
    "<h3 align=\"center\"> Messmodel und Updater </h3>\n"
   ]
  },
  {
   "cell_type": "markdown",
   "source": [
    "Ziel dieses Tutoriums ist es, $x_{k|k}$ und $P_{k|k}$ zu erhalten. \n",
    "Dies wird ermöglicht durch eine neue Messung $z_k$. \n",
    "Zudem benötigen wir noch die Messmatrix $H_k$ und ein Rauschen $R_k$.\n",
    "\n",
    "$R$ = $\\begin{bmatrix}\n",
    "  \\sigma ² & 0  \\\\\n",
    "  0 & \\sigma ²  \\\\\n",
    "\\end{bmatrix}$\n",
    "\n",
    "Das Vorgehen in der Filterung ist nun folgendes:\n",
    "\n",
    "(1) Berechnung der Innovation $v_{k|k-1}$ und ihrer Kovarianz $S_{k|k-1}$ \n",
    "\n",
    "  $v_{k|k-1}$ = $z_k$ - $H_k x_{k|k-1}$\n",
    "  \n",
    "  $S_{k|k-1}$ = $H_k P_{k|k-1} H^T_k$ + $R_k$\n",
    "  \n",
    "(2) Berechnung der Gewichtsmatrix $W_{k|k-1}$  \n",
    "\n",
    "  $W_{k|k-1}$ = $P_{k|k-1} H^T_k S_{k|k-1}$\n",
    "\n",
    "\n",
    "(3) Berechnung $x_{k|k}$ und $P_{k|k}$\n",
    "\n",
    "  $x_{k|k}$ = $x_{k|k-1} + W_{k|k-1} v_{k|k-1}$ \n",
    "  \n",
    "  $P_{k|k}$ = $P_{k|k-1} - W_{k|k-1} S_{k|k-1} W^T_{k|k-1}$"
   ],
   "metadata": {
    "collapsed": false
   }
  },
  {
   "cell_type": "code",
   "source": [
    "import scipy as sp\n",
    "import numpy as np\n",
    "from scipy.stats import multivariate_normal\n",
    "\n",
    "from stonesoup.base import Property\n",
    "from stonesoup.types.array import CovarianceMatrix\n",
    "from stonesoup.models.base import LinearModel, GaussianModel\n",
    "from stonesoup.models.measurement.base import MeasurementModel"
   ],
   "metadata": {
    "collapsed": false,
    "pycharm": {
     "name": "#%% \n"
    }
   },
   "execution_count": 1,
   "outputs": []
  },
  {
   "cell_type": "code",
   "execution_count": 2,
   "outputs": [],
   "source": [
    "import numpy as np\n",
    "from scipy.stats import multivariate_normal\n",
    "\n",
    "from stonesoup.types.array import CovarianceMatrix\n",
    "from stonesoup.models.base import LinearModel, GaussianModel\n",
    "from stonesoup.models.measurement.base import MeasurementModel"
   ],
   "metadata": {
    "collapsed": false,
    "pycharm": {
     "name": "#%%\n"
    }
   }
  },
  {
   "cell_type": "markdown",
   "source": [
    "<h3 align=\"center\"> Messmodell erstellen </h3>"
   ],
   "metadata": {
    "collapsed": false,
    "pycharm": {
     "name": "#%% md\n",
     "is_executing": false
    }
   }
  },
  {
   "cell_type": "code",
   "execution_count": 3,
   "outputs": [],
   "source": [
    "class SDFMessmodell(MeasurementModel, LinearModel, GaussianModel):\n",
    "    \n",
    "    @property\n",
    "    def ndim_meas(self):\n",
    "        return 2\n",
    "    \n",
    "    def matrix(self, **kwargs):\n",
    "        # model_matrix = np.array([[\"\"\"Erste Zeile der Messmatrix\"\"\"], [\"\"\" Zweite Zeile der Messmatrix\"\"\"]])\n",
    "        model_matrix = np.array([[1, 0, 0, 0], [0, 0, 1, 0]])\n",
    "        return model_matrix\n",
    "    \n",
    "    def covar(self):\n",
    "        sigma = 50\n",
    "        cov = CovarianceMatrix([[np.power(sigma, 2), 0], [0, np.power(sigma, 2)]])\n",
    "        return cov\n",
    "    \n",
    "    def rvs(self):\n",
    "        # sample ziehen aus der Kovarianzmatrix\n",
    "        noise = multivariate_normal.rvs(np.zeros(self.ndim_meas), self.covar(), 1)\n",
    "        return noise.reshape((-1, 1))\n",
    "    \n",
    "    def pdf(self):\n",
    "        pass\n",
    "    \n",
    "    \n",
    "    "
   ],
   "metadata": {
    "collapsed": false,
    "pycharm": {
     "name": "#%%\n"
    }
   }
  },
  {
   "cell_type": "code",
   "execution_count": 4,
   "outputs": [],
   "source": [
    "#Messmatrix H\n",
    "messmodell = SDFMessmodell(4, (0, 2))"
   ],
   "metadata": {
    "collapsed": false,
    "pycharm": {
     "name": "#%%\n"
    }
   }
  },
  {
   "cell_type": "code",
   "execution_count": 5,
   "outputs": [
    {
     "data": {
      "text/plain": "array([[1, 0, 0, 0],\n       [0, 0, 1, 0]])"
     },
     "execution_count": 5,
     "metadata": {},
     "output_type": "execute_result"
    }
   ],
   "source": [
    "messmodell.matrix()"
   ],
   "metadata": {
    "collapsed": false,
    "pycharm": {
     "name": "#%%\n"
    }
   }
  },
  {
   "cell_type": "code",
   "execution_count": 6,
   "outputs": [
    {
     "data": {
      "text/plain": "CovarianceMatrix([[2500,    0],\n                  [   0, 2500]])"
     },
     "execution_count": 6,
     "metadata": {},
     "output_type": "execute_result"
    }
   ],
   "source": [
    "messmodell.covar()\n"
   ],
   "metadata": {
    "collapsed": false,
    "pycharm": {
     "name": "#%%\n"
    }
   }
  },
  {
   "cell_type": "markdown",
   "source": [
    "<h3 align=\"center\"> Imports für den Updater </h3>"
   ],
   "metadata": {
    "collapsed": false,
    "pycharm": {
     "name": "#%% md\n"
    }
   }
  },
  {
   "cell_type": "code",
   "execution_count": 7,
   "outputs": [],
   "source": [
    "from stonesoup.updater.base import Updater\n",
    "from stonesoup.types.hypothesis import SingleHypothesis\n",
    "from stonesoup.types.prediction import GaussianMeasurementPrediction\n",
    "from stonesoup.types.update import GaussianStateUpdate"
   ],
   "metadata": {
    "collapsed": false,
    "pycharm": {
     "name": "#%%\n"
    }
   }
  },
  {
   "cell_type": "markdown",
   "source": [
    "<h3 align=\"center\"> Updater erstellen </h3>"
   ],
   "metadata": {
    "collapsed": false,
    "pycharm": {
     "name": "#%% md\n"
    }
   }
  },
  {
   "cell_type": "code",
   "execution_count": 8,
   "outputs": [],
   "source": [
    "class SDFUpdater(Updater):\n",
    "    def get_measurement_prediction(self, state_prediction, measurement_model = None, **kwargs):\n",
    "        x_pre = state_prediction\n",
    "        Messmatrix = measurement_model.matrix\n",
    "        messprediction = Messmatrix @ x_pre\n",
    "        return messprediction\n",
    "\n",
    "    def update(self, hypothesis, measurementmodel, **kwargs):\n",
    "        \n",
    "        measurement_matrix = measurementmodel.matrix()  # H\n",
    "        measurement_noise_covar = measurementmodel.covar()  # R\n",
    "        prediction_covar = hypothesis.prediction.covar  # P\n",
    "        messprediction = self.get_measurement_prediction(hypothesis.prediction.mean, measurementmodel)\n",
    "\n",
    "        S = measurement_matrix @ prediction_covar @ measurement_matrix.T + measurement_noise_covar  # S\n",
    "        W = prediction_covar @measurement_matrix.T @ np.linalg.pinv(S)  # W\n",
    "        Innovation = hypothesis.measurement.state_vector - (measurement_matrix @ hypothesis.prediction.mean)    # v\n",
    "        \n",
    "        x_post = hypothesis.prediction.mean + W @ Innovation    # x + W @ v\n",
    "        P_post = prediction_covar - (W @ S @ W.T)  # P - ( W @ S @ W.T )\n",
    "\n",
    "\n",
    "        # Augment hypothesis with measurement prediction\n",
    "        hypothesis = SingleHypothesis(hypothesis.prediction,\n",
    "                                      hypothesis.measurement,\n",
    "                                      GaussianMeasurementPrediction(\n",
    "                                          messprediction, S,\n",
    "                                          hypothesis.prediction.timestamp)\n",
    "                                      )\n",
    "\n",
    "        return GaussianStateUpdate(x_post,\n",
    "                                   P_post,\n",
    "                                   hypothesis,\n",
    "                                   hypothesis.measurement.timestamp)"
   ],
   "metadata": {
    "collapsed": false,
    "pycharm": {
     "name": "#%%\n"
    }
   }
  }
 ],
 "metadata": {
  "kernelspec": {
   "name": "python3",
   "language": "python",
   "display_name": "Python 3"
  },
  "language_info": {
   "codemirror_mode": {
    "name": "ipython",
    "version": 2
   },
   "file_extension": ".py",
   "mimetype": "text/x-python",
   "name": "python",
   "nbconvert_exporter": "python",
   "pygments_lexer": "ipython2",
   "version": "2.7.6"
  }
 },
 "nbformat": 4,
 "nbformat_minor": 0
}