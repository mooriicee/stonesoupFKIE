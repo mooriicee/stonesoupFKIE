{
 "cells": [
  {
   "cell_type": "code",
   "execution_count": null,
   "metadata": {
    "collapsed": true
   },
   "outputs": [],
   "source": [
    "def retrodict(state, prior_state, transition_model):\n",
    "    F = transition_model.matrix()\n",
    "    \n",
    "    x_ll = prior_state.state_vector()\n",
    "    P_ll = prior_state.covar()\n",
    "    \n",
    "    x_l1k = state.state_vector()\n",
    "    P_l1k = state.covar()\n",
    "    \n",
    "    x_l1l = F @ x_ll\n",
    "    P_l1l = F @ P_ll @ F.T + transition_model.covar()\n",
    "    \n",
    "    W_l1l = P_ll @ F.T @ P_l1l.\n"
   ]
  }
 ],
 "metadata": {
  "kernelspec": {
   "display_name": "Python 3",
   "language": "python",
   "name": "python3"
  },
  "language_info": {
   "codemirror_mode": {
    "name": "ipython",
    "version": 2
   },
   "file_extension": ".py",
   "mimetype": "text/x-python",
   "name": "python",
   "nbconvert_exporter": "python",
   "pygments_lexer": "ipython2",
   "version": "2.7.6"
  },
  "pycharm": {
   "stem_cell": {
    "cell_type": "raw",
    "source": [],
    "metadata": {
     "collapsed": false
    }
   }
  }
 },
 "nbformat": 4,
 "nbformat_minor": 0
}