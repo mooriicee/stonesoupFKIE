{
 "cells": [
  {
   "cell_type": "markdown",
   "metadata": {
    "collapsed": true,
    "pycharm": {
     "name": "#%% md\n"
    }
   },
   "source": [
    "<h1 align=\"center\"> Sensordatenfusion Tutorium 03 </h1>\n",
    "\n",
    "<h3 align=\"center\"> Erstellen der Prädiktion </h3>"
   ]
  },
  {
   "cell_type": "markdown",
   "source": [
    "Die Prädiktion hat den Zweck, dass wir eine Zustandsschätzung basierend auf $x_{k-1|k-1}$ erhalten.\n",
    "Für $x_{k|k-1}$ benötigen wir lediglich noch unsere Evolutions-/Dynamikmatrix $F_{k|k-1}$, die im Zuge des zweiten Tutoriums erstellt wurde .\n",
    "Für die dazugehörige Kovarianz $P_{k|k-1}$ brauchen wir zusätzlich zu $F$ noch das Prozessrauschen $Q_{k|k-1}$ (in den Folien $D_{k|k-1}$).\n",
    "Ziel dieses Aufgabenteils ist es also, einen eigenen $Predictor$ zu erstellen, um $x_{k|k-1}$ und $P_{k|k-1}$ zu erhalten. \n"
   ],
   "metadata": {
    "collapsed": false,
    "pycharm": {
     "name": "#%% md\n"
    }
   }
  },
  {
   "cell_type": "markdown",
   "source": [
    "Notwendige Imports \n"
   ],
   "metadata": {
    "collapsed": false,
    "pycharm": {
     "name": "#%% md\n",
     "is_executing": false
    }
   }
  },
  {
   "cell_type": "code",
   "execution_count": null,
   "outputs": [],
   "source": [
    "from functools import lru_cache\n",
    "import scipy as sp\n",
    "import numpy as np\n",
    "from stonesoup.base import Property\n",
    "from stonesoup.predictor import Predictor\n",
    "from stonesoup.functions import gauss2sigma, unscented_transform\n",
    "from stonesoup.types.prediction import GaussianStatePrediction\n",
    "from stonesoup.types.state import State"
   ],
   "metadata": {
    "collapsed": false,
    "pycharm": {
     "name": "#%%\n",
     "is_executing": false
    }
   }
  },
  {
   "cell_type": "code",
   "execution_count": null,
   "outputs": [],
   "source": [
    "class SdfKalmanPredictor(Predictor):\n",
    "    @lru_cache()\n",
    "    def predict(self, prior, control_input=None, timestamp=None, **kwargs):\n",
    "        \n",
    "        # Transition model parameters\n",
    "        transition_matrix = self.transition_model.matrix\n",
    "        transition_noise_covar = self.transition_model.covar\n",
    "        \n",
    "        # Perform prediction\n",
    "        prediction_mean = transition_matrix @ prior.mean\n",
    "        prediction_covar = transition_matrix @ prior.covar @ transition_matrix + transition_noise_covar\n",
    "        \n",
    "        return GaussianStatePrediction(prediction_mean,\n",
    "                                       prediction_covar,\n",
    "                                       timestamp)\n",
    "    \n"
   ],
   "metadata": {
    "collapsed": false,
    "pycharm": {
     "name": "#%%\n",
     "is_executing": false
    }
   }
  }
 ],
 "metadata": {
  "kernelspec": {
   "name": "pycharm-279e87eb",
   "language": "python",
   "display_name": "PyCharm (stonesoupFKIE)"
  },
  "language_info": {
   "codemirror_mode": {
    "name": "ipython",
    "version": 2
   },
   "file_extension": ".py",
   "mimetype": "text/x-python",
   "name": "python",
   "nbconvert_exporter": "python",
   "pygments_lexer": "ipython2",
   "version": "2.7.6"
  },
  "pycharm": {
   "stem_cell": {
    "cell_type": "raw",
    "source": [],
    "metadata": {
     "collapsed": false
    }
   }
  }
 },
 "nbformat": 4,
 "nbformat_minor": 0
}