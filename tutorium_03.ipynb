{
 "cells": [
  {
   "cell_type": "markdown",
   "metadata": {
    "collapsed": true,
    "pycharm": {
     "name": "#%% md\n"
    }
   },
   "source": [
    "<h1 align=\"center\"> Sensordatenfusion Tutorium 03 </h1>\n",
    "\n",
    "<h3 align=\"center\"> Erstellen der Prädiktion </h3>"
   ]
  },
  {
   "cell_type": "markdown",
   "source": [
    "Die Prädiktion hat den Zweck, dass wir eine Zustandsschätzung basierend auf $x_{k-1|k-1}$ erhalten.\n",
    "Für $x_{k|k-1}$ benötigen wir lediglich noch unsere Evolutions-/Dynamikmatrix $F_{k|k-1}$, die im Zuge des zweiten Tutoriums erstellt wurde .\n",
    "Für die dazugehörige Kovarianz $P_{k|k-1}$ brauchen wir zusätzlich zu $F$ noch das Prozessrauschen $Q_{k|k-1}$ (in den Folien $D_{k|k-1}$).\n",
    "Ziel dieses Aufgabenteils ist es also, einen eigenen $Predictor$ zu erstellen, um $x_{k|k-1}$ und $P_{k|k-1}$ zu erhalten. \n"
   ],
   "metadata": {
    "collapsed": false,
    "pycharm": {
     "name": "#%% md\n"
    }
   }
  },
  {
   "cell_type": "markdown",
   "source": [
    "Notwendige Imports \n"
   ],
   "metadata": {
    "collapsed": false,
    "pycharm": {
     "name": "#%% md\n",
     "is_executing": false
    }
   }
  },
  {
   "cell_type": "code",
   "execution_count": null,
   "outputs": [],
   "source": [
    "import scipy as sp\n",
    "import numpy as np\n",
    "from stonesoup.base import Property\n",
    "from stonesoup.base import Predictor\n",
    "from stonesoup.functions import gauss2sigma, unscented_transform\n",
    "from stonesoup.types.prediction import GaussianStatePrediction\n",
    "from stonesoup.types.state import State"
   ],
   "metadata": {
    "collapsed": false,
    "pycharm": {
     "name": "#%%\n",
     "is_executing": false
    }
   }
  },
  {
   "cell_type": "code",
   "execution_count": null,
   "outputs": [],
   "source": [
    "class SdfKalmanPredictor(Predictor)\n",
    "    @lru_cache()\n",
    "    def predict(self, prior, control_input=None, timestamp=None, **kwargs):\n",
    "        \n",
    "        \n",
    "        # Compute time_interval\n",
    "        try:\n",
    "            time_interval = timestamp - prior.timestamp\n",
    "        except TypeError:\n",
    "            # TypeError: (timestamp or prior.timestamp) is None\n",
    "            time_interval = None\n",
    "            \n",
    "            \n",
    "        # Transition model parameters\n",
    "        transition_matrix = self.transition_model.matrix(\n",
    "            timestamp=timestamp,\n",
    "            time_interval=time_interval,\n",
    "            **kwargs)\n",
    "        transition_noise_covar = self.transition_model.covar(\n",
    "            timestamp=timestamp,\n",
    "            time_interval=time_interval,\n",
    "            **kwargs)\n",
    "        \n",
    "        # Control model parameters\n",
    "        if self.control_model is None:\n",
    "            control_matrix = np.zeros(prior.covar.shape)\n",
    "            contol_noise_covar = np.zeros(prior.covar.shape)\n",
    "            control_input = State(np.zeros(prior.state_vector.shape))\n",
    "        else:\n",
    "            # Extract control matrix\n",
    "            control_matrix = self.control_model.matrix(\n",
    "                timestamp=timestamp,\n",
    "                time_interval=time_interval,\n",
    "                **kwargs)\n",
    "            # Extract control noise covariance\n",
    "            try:\n",
    "                # covar() is implemented for control_model\n",
    "                control_noise_covar = self.control_model.covar(\n",
    "                    timestamp=timestamp,\n",
    "                    time_interval=time_interval,\n",
    "                    **kwargs)\n",
    "            except AttributeError:\n",
    "                # covar() is NOT implemented for control_model\n",
    "                contol_noise_covar = np.zeros(self.control_model.ndim_ctrl)\n",
    "            if control_input is None:\n",
    "                control_input = np.zeros((self.control_model.ndim_ctrl, 1))\n",
    "                \n",
    "        # Perform prediction\n",
    "        prediction_mean, prediction_covar = self.predict_lowlevel(\n",
    "            prior.mean, prior.covar, transition_matrix,\n",
    "            transition_noise_covar, control_input.state_vector,\n",
    "            control_matrix, contol_noise_covar)\n",
    "        \n",
    "        return GaussianStatePrediction(prediction_mean,\n",
    "                                       prediction_covar,\n",
    "                                       timestamp)\n",
    "    \n"
   ],
   "metadata": {
    "collapsed": false,
    "pycharm": {
     "name": "#%%\n",
     "is_executing": false
    }
   }
  }
 ],
 "metadata": {
  "kernelspec": {
   "name": "pycharm-c80bf70",
   "language": "python",
   "display_name": "PyCharm (stonesoupFKIE)"
  },
  "language_info": {
   "codemirror_mode": {
    "name": "ipython",
    "version": 2
   },
   "file_extension": ".py",
   "mimetype": "text/x-python",
   "name": "python",
   "nbconvert_exporter": "python",
   "pygments_lexer": "ipython2",
   "version": "2.7.6"
  },
  "pycharm": {
   "stem_cell": {
    "cell_type": "raw",
    "source": [],
    "metadata": {
     "collapsed": false
    }
   }
  }
 },
 "nbformat": 4,
 "nbformat_minor": 0
}