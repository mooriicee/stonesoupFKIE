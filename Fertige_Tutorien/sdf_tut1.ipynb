{
 "cells": [
  {
   "cell_type": "markdown",
   "metadata": {
    "collapsed": true,
    "pycharm": {
     "name": "#%% md\n"
    }
   },
   "source": [
    "<h1 align=\"center\"> Sensordatenfusion Tutorium 01 </h1>\n",
    "\n",
    "<h3 align=\"center\"> Generieren von Groundtruth und Messungen </h3>"
   ]
  },
  {
   "cell_type": "code",
   "execution_count": 5,
   "outputs": [],
   "source": [
    "%matplotlib inline\n",
    "\n",
    "import numpy as np"
   ],
   "metadata": {
    "collapsed": false,
    "pycharm": {
     "name": "#%%\n",
     "is_executing": false
    }
   }
  },
  {
   "cell_type": "markdown",
   "source": [
    "<h3 align=\"center\"> Hier bitte die Parameter für die Erstellung der Groundtruth festlegen.\n",
    "                    Die Formel für Parameter & Berechnung finden Sie in Foliensatz 2.</h3>\n"
   ],
   "metadata": {
    "collapsed": false
   }
  },
  {
   "cell_type": "code",
   "execution_count": 6,
   "outputs": [
    {
     "traceback": [
      "\u001b[0;36m  File \u001b[0;32m\"<ipython-input-6-f4249dd37c1f>\"\u001b[0;36m, line \u001b[0;32m1\u001b[0m\n\u001b[0;31m    velocity =\u001b[0m\n\u001b[0m               ^\u001b[0m\n\u001b[0;31mSyntaxError\u001b[0m\u001b[0;31m:\u001b[0m invalid syntax\n"
     ],
     "ename": "SyntaxError",
     "evalue": "invalid syntax (<ipython-input-6-f4249dd37c1f>, line 1)",
     "output_type": "error"
    }
   ],
   "source": [
    "velocity = \n",
    "acceleration = \n",
    "omega = \n",
    "A = "
   ],
   "metadata": {
    "collapsed": false,
    "pycharm": {
     "name": "#%%\n",
     "is_executing": false
    }
   }
  },
  {
   "cell_type": "markdown",
   "source": [
    "<h3 align=\"center\"> Nun wird die Groundtruth selbst erstellt. \n",
    "Dazu müssen die X- und Y-Koordinaten berechnet werden, \n",
    "sodass am Ende genau eine Schleife entsteht.\n",
    "</h3>"
   ],
   "metadata": {
    "collapsed": false
   }
  },
  {
   "cell_type": "code",
   "execution_count": null,
   "outputs": [],
   "source": [
    "from matplotlib import pyplot as plt\n",
    "figure = plt.figure(figsize=(16, 9))\n",
    "ax = figure.add_subplot(1, 1, 1)\n",
    "ax.set_xlabel(\"$x$\")\n",
    "ax.set_ylabel(\"$y$\")\n",
    "\n",
    "from stonesoup.types.groundtruth import GroundTruthPath, GroundTruthState\n",
    "\n",
    "truth = GroundTruthPath()\n",
    "period = \n",
    "\n",
    "for t in period:\n",
    "    x = \n",
    "    y = \n",
    "    truth.append(GroundTruthState(np.array([[x], [y]]), timestamp=t))\n",
    "\n",
    "ax.plot([state.state_vector[0, 0] for state in truth], \n",
    "        [state.state_vector[1, 0] for state in truth], \n",
    "        linestyle=\"--\", color=\"grey\")"
   ],
   "metadata": {
    "collapsed": false,
    "pycharm": {
     "name": "#%%\n",
     "is_executing": false
    }
   }
  },
  {
   "cell_type": "markdown",
   "source": [
    "Jetzt werden die Messungen generiert.\n",
    "Unser \"Sensor\" soll nur alle 5 Sekunden eine neue Messung erstellen.\n",
    "Außerdem besteht eine Ungenauigkeit $\\sigma$ = 50 Meter in X- und Y-Richtung"
   ],
   "metadata": {
    "collapsed": false
   }
  },
  {
   "cell_type": "code",
   "execution_count": null,
   "outputs": [],
   "source": [
    "from stonesoup.types.detection import Detection\n",
    "\n",
    "measurements = []\n",
    "for state in truth:\n",
    "    x = state.state_vector[0, 0]\n",
    "    y = state.state_vector[1, 0]\n",
    "    \"\"\"\n",
    "        x- und y-offsets berechnen und mit den Groundtruth-Daten verrechnen.\n",
    "        \n",
    "    \"\"\"\n",
    "    measurements.append(Detection(np.array([x, y]), timestamp=state.timestamp))\n",
    "    \n",
    "# Messungen plotten\n",
    "ax.scatter([state.state_vector[0, 0] for state in measurements], \n",
    "           [state.state_vector[1, 0] for state in measurements], \n",
    "           color='black', s = 10)\n",
    "\n",
    "figure"
   ],
   "metadata": {
    "collapsed": false,
    "pycharm": {
     "name": "#%%\n",
     "is_executing": false
    }
   }
  }
 ],
 "metadata": {
  "kernelspec": {
   "display_name": "Python 3",
   "language": "python",
   "name": "python3"
  },
  "language_info": {
   "codemirror_mode": {
    "name": "ipython",
    "version": 2
   },
   "file_extension": ".py",
   "mimetype": "text/x-python",
   "name": "python",
   "nbconvert_exporter": "python",
   "pygments_lexer": "ipython2",
   "version": "2.7.6"
  },
  "pycharm": {
   "stem_cell": {
    "cell_type": "raw",
    "source": [],
    "metadata": {
     "collapsed": false
    }
   }
  }
 },
 "nbformat": 4,
 "nbformat_minor": 0
}