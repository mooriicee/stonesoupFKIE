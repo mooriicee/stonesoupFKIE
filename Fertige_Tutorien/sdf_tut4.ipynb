{
 "cells": [
  {
   "cell_type": "markdown",
   "metadata": {
    "collapsed": true,
    "pycharm": {
     "name": "#%% md\n"
    }
   },
   "source": [
    "<h1 align=\"center\"> Sensordatenfusion Tutorium 04 </h1>\n",
    "\n",
    "<h3 align=\"center\"> Messmodel und Updater </h3>\n"
   ]
  },
  {
   "cell_type": "markdown",
   "source": [
    "Ziel dieses Tutoriums ist es, $x_{k|k}$ und $P_{k|k}$ zu erhalten. \n",
    "Dies wird ermöglicht durch eine (neue) Messung $z_k$. \n",
    "Zudem benötigen wir noch die Messmatrix $H$ und ein Rauschen $R_k$.\n",
    "\n",
    "Das Vorgehen in der Filterung ist nun folgendes:\n",
    "\n",
    "(1) Berechnung der Innovation $v_{k|k-1}$ und ihrer Kovarianz $S_{k|k-1}$ \n",
    "\n",
    "  $v_{k|k-1}$ = $z_k$ - $H_k x_{k|k-1}$\n",
    "  \n",
    "  $S_{k|k-1}$ = $H_k P_{k|k-1} H^T_k$ + $R_k$\n",
    "  \n",
    "(2) Berechnung der Gewichtsmatrix $W_{k|k-1}$  \n",
    "\n",
    "  $W_{k|k-1}$ = $P_{k|k-1} H^T_k S_{k|k-1}$\n",
    "\n",
    "\n",
    "(3) Berechnung $x_{k|k}$ und $P_{k|k}$\n",
    "\n",
    "  $x_{k|k}$ = $x_{k|k-1} + W_{k|k-1} v_{k|k-1}$ \n",
    "  \n",
    "  $P_{k|k}$ = $P_{k|k-1} - W_{k|k-1} S_{k|k-1} W^T_{k|k-1}$"
   ],
   "metadata": {
    "collapsed": false
   }
  },
  {
   "cell_type": "code",
   "execution_count": null,
   "outputs": [],
   "source": [
    "import scipy as sp\n",
    "import numpy as np\n",
    "from scipy.stats import multivariate_normal\n",
    "\n",
    "from stonesoup.base import Property\n",
    "from stonesoup.types.array import CovarianceMatrix\n",
    "from stonesoup.models.base import LinearModel, GaussianModel\n",
    "from stonesoup.models.measurement.base import MeasurementModel"
   ],
   "metadata": {
    "collapsed": false,
    "pycharm": {
     "name": "#%% \n"
    }
   }
  },
  {
   "cell_type": "code",
   "execution_count": null,
   "outputs": [],
   "source": [
    "import scipy as sp\n",
    "import numpy as np\n",
    "from scipy.stats import multivariate_normal\n",
    "\n",
    "from stonesoup.models.base import LinearModel, GaussianModel\n",
    "from stonesoup.models.measurement.base import MeasurementModel"
   ],
   "metadata": {
    "collapsed": false,
    "pycharm": {
     "name": "#%%\n"
    }
   }
  },
  {
   "cell_type": "markdown",
   "source": [
    "<h3 align=\"center\"> Zuerst erstellen wir unser Messmodell.</h3>\n",
    "\n",
    "Fügen Sie die zugehörigen Matrizen in die Funktionen \"matrix()\" und \"covar()\" ein\n",
    "und lassen Sie diese zurückgeben.\n",
    "\n",
    "Die Funktion \"matrix()\" gibt die Messmatrix $H$ zurück.\n",
    "\n",
    "Die Funktion \"covar()\" gibt die Rauschmatrix $R$ zurück."
   ],
   "metadata": {
    "collapsed": false
   }
  },
  {
   "cell_type": "code",
   "execution_count": null,
   "outputs": [],
   "source": [
    "from stonesoup.types.array import CovarianceMatrix\n",
    "\n",
    "class SDFMessmodell(MeasurementModel, LinearModel, GaussianModel):\n",
    "    \n",
    "    def pdf(self):\n",
    "        pass\n",
    "    \n",
    "    @property\n",
    "    def ndim_meas(self):\n",
    "        return 2\n",
    "    \n",
    "    def matrix(self, **kwargs):\n",
    "        \n",
    "        \n",
    "        return H\n",
    "    \n",
    "    def covar(self):\n",
    "        \n",
    "        # cov definieren um es als Argument zu übergeben\n",
    "        \n",
    "        return CovarianceMatrix(cov)\n",
    "    \n",
    "    def rvs(self):\n",
    "        # sample ziehen aus der Kovarianzmatrix\n",
    "        noise = multivariate_normal.rvs(sp.zeros(self.ndim_meas), self.covar(), 1)\n",
    "        return noise.reshape((-1, 1))"
   ],
   "metadata": {
    "collapsed": false,
    "pycharm": {
     "name": "#%%\n"
    }
   }
  },
  {
   "cell_type": "code",
   "execution_count": null,
   "outputs": [],
   "source": [
    "#Messmatrix H\n",
    "messmodell = SDFMessmodell(4, (0, 2))"
   ],
   "metadata": {
    "collapsed": false,
    "pycharm": {
     "name": "#%%\n"
    }
   }
  },
  {
   "cell_type": "markdown",
   "source": [
    "<h3 align=\"center\"> Imports für den Updater </h3>"
   ],
   "metadata": {
    "collapsed": false
   }
  },
  {
   "cell_type": "code",
   "execution_count": null,
   "outputs": [],
   "source": [
    "from functools import lru_cache\n",
    "\n",
    "from stonesoup.updater.base import Updater\n",
    "from stonesoup.types.hypothesis import SingleHypothesis\n",
    "from stonesoup.types.prediction import GaussianMeasurementPrediction\n",
    "from stonesoup.types.update import GaussianStateUpdate"
   ],
   "metadata": {
    "collapsed": false,
    "pycharm": {
     "name": "#%%\n"
    }
   }
  },
  {
   "cell_type": "markdown",
   "source": [
    "<h3 align=\"center\"> Updater erstellen </h3>\n",
    "\n",
    "Fügen Sie in die Funktion \"update()\" alle Berechnungen des Filter-Schrittes ein.\n",
    "\n",
    "Alle benötigten Komponenten sind in den ersten Zeilen gegeben.\n",
    "\n",
    "Die \"Hypothesis\" können Sie vorerst ignorieren."
   ],
   "metadata": {
    "collapsed": false
   }
  },
  {
   "cell_type": "code",
   "execution_count": null,
   "outputs": [],
   "source": [
    "class SDFUpdater(Updater):\n",
    "    def get_measurement_prediction(self, **kwargs):\n",
    "        pass\n",
    "\n",
    "    def update(self, hypothesis, measurementmodel, **kwargs):\n",
    "        \n",
    "        measurement_mean = hypothesis.measurement.state_vector\n",
    "        measurement_matrix = measurementmodel.matrix()  # H\n",
    "        measurement_noise_covar = measurementmodel.covar()  # R\n",
    "        prediction_covar = hypothesis.prediction.covar  # P\n",
    "        prior = hypothesis.prediction.mean\n",
    "        \n",
    "        \n",
    "        hypothesis = SingleHypothesis(hypothesis.prediction,\n",
    "                                      hypothesis.measurement,\n",
    "                                      GaussianMeasurementPrediction(\n",
    "                                          messprediction, S,\n",
    "                                          hypothesis.prediction.timestamp)\n",
    "                                      )\n",
    "\n",
    "        return GaussianStateUpdate(x_post,\n",
    "                                   P_post,\n",
    "                                   hypothesis,\n",
    "                                   hypothesis.measurement.timestamp)"
   ],
   "metadata": {
    "collapsed": false,
    "pycharm": {
     "name": "#%%\n"
    }
   }
  }
 ],
 "metadata": {
  "kernelspec": {
   "display_name": "Python 3",
   "language": "python",
   "name": "python3"
  },
  "language_info": {
   "codemirror_mode": {
    "name": "ipython",
    "version": 2
   },
   "file_extension": ".py",
   "mimetype": "text/x-python",
   "name": "python",
   "nbconvert_exporter": "python",
   "pygments_lexer": "ipython2",
   "version": "2.7.6"
  },
  "pycharm": {
   "stem_cell": {
    "cell_type": "raw",
    "source": [],
    "metadata": {
     "collapsed": false
    }
   }
  }
 },
 "nbformat": 4,
 "nbformat_minor": 0
}