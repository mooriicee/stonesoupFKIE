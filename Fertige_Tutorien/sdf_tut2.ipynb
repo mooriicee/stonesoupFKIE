{
 "cells": [
  {
   "cell_type": "markdown",
   "metadata": {
    "collapsed": true,
    "pycharm": {
     "name": "#%% md\n"
    }
   },
   "source": [
    "<h1 align=\"center\"> Sensordatenfusion Tutorium 02 </h1>\n",
    "\n",
    "<h3 align=\"center\"> Erstellen des Transitionsmodells </h3>"
   ]
  },
  {
   "cell_type": "code",
   "execution_count": null,
   "outputs": [],
   "source": [
    "import numpy as np\n",
    "\n",
    "from stonesoup.types.array import CovarianceMatrix\n",
    "from stonesoup.models.base import (TimeVariantModel)\n",
    "from stonesoup.models.transition.linear import LinearGaussianTransitionModel"
   ],
   "metadata": {
    "collapsed": false,
    "pycharm": {
     "name": "#%%\n"
    }
   }
  },
  {
   "cell_type": "markdown",
   "source": [
    "Mit dem Dynamikmodell approximieren wir, wie sich das von uns getrackte Objekt bewegt.\n",
    "Hierfür gibt es je nach Anwendungsgebiet verschiedene Ansätze,\n",
    "im Folgenden werden wir mit dem $Piecewise Constant White Acceleration Model$ arbeiten:"
   ],
   "metadata": {
    "collapsed": false
   }
  },
  {
   "cell_type": "markdown",
   "source": [
    "$\\Delta T$ = $t_k$ - $t_{k-1}$"
   ],
   "metadata": {
    "collapsed": false
   }
  },
  {
   "cell_type": "markdown",
   "source": [
    "$F_{k|k-1}$ = $\\begin{bmatrix}\n",
    "  1 & \\Delta T_k  \\\\\n",
    "  0 & 1  \\\\\n",
    "\\end{bmatrix}$ "
   ],
   "metadata": {
    "collapsed": false
   }
  },
  {
   "cell_type": "markdown",
   "source": [
    "$D_{k|k-1}$ = $\\Sigma^2_k$ * $\\begin{bmatrix}\n",
    "  \\frac{1}{4}\\Delta T^4_k & \\frac{1}{2}\\Delta T^3_k  \\\\\n",
    "  \\frac{1}{2}\\Delta T^3_k & \\Delta T^2_k  \\\\\n",
    "\\end{bmatrix}$\n",
    "\n",
    "Wichtig für das Verständnis: $\\Sigma^2_k$ ist hierbei kein Summenzeichen, \n",
    "sondern ein regulärer Vorfaktor.\n",
    "\n",
    "Siehe Foliensatz 3, Folie 56."
   ],
   "metadata": {
    "collapsed": false
   }
  },
  {
   "cell_type": "markdown",
   "source": [
    "Die oben gezeigten Matrizen beziehen sich jeweils nur auf eine Dimension.\n",
    "Da wir 2-dimensional arbeiten, müssen diese also zusammengefügt werden.\n",
    "Dazu können Sie z.B. die Funktion \"block_diag()\" benutzen.\n",
    "\n",
    "Definieren Sie die Matrizen in den dazugehörigen Funktionen und geben Sie sie zurück."
   ],
   "metadata": {
    "collapsed": false,
    "pycharm": {
     "name": "#%% md\n"
    }
   }
  },
  {
   "cell_type": "code",
   "execution_count": null,
   "outputs": [],
   "source": [
    "from scipy.linalg import block_diag\n",
    "\n",
    "class PCWAModel(LinearGaussianTransitionModel, TimeVariantModel):\n",
    "\n",
    "    def matrix(self, timedelta=5, **kwargs):\n",
    "        pass\n",
    "\n",
    "    def covar(self, timedelta=5, **kwargs):\n",
    "        pass"
   ],
   "metadata": {
    "collapsed": false,
    "pycharm": {
     "name": "#%%\n"
    }
   }
  }
 ],
 "metadata": {
  "kernelspec": {
   "display_name": "Python 3",
   "language": "python",
   "name": "python3"
  },
  "language_info": {
   "codemirror_mode": {
    "name": "ipython",
    "version": 2
   },
   "file_extension": ".py",
   "mimetype": "text/x-python",
   "name": "python",
   "nbconvert_exporter": "python",
   "pygments_lexer": "ipython2",
   "version": "2.7.6"
  }
 },
 "nbformat": 4,
 "nbformat_minor": 0
}