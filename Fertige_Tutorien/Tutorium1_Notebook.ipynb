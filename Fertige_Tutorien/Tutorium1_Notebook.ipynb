{
 "cells": [
  {
   "cell_type": "markdown",
   "metadata": {
    "collapsed": true,
    "pycharm": {
     "name": "#%% md\n"
    }
   },
   "source": [
    "<h1 align=\"center\"> Sensordatenfusion Tutorium 01 </h1>\n",
    "\n",
    "<h3 align=\"center\"> Generieren von Groundtruth und Messungen </h3>"
   ]
  },
  {
   "cell_type": "code",
   "execution_count": 1,
   "metadata": {
    "pycharm": {
     "name": "#%%\n"
    }
   },
   "outputs": [],
   "source": [
    "%matplotlib inline\n",
    "\n",
    "import numpy as np"
   ]
  },
  {
   "cell_type": "markdown",
   "metadata": {},
   "source": [
    "Legen Sie die Parameter für die Erstellung der Groundtruth fest.\n",
    "Die Formel für Parameter & Berechnung finden Sie in Foliensatz 2.\n"
   ]
  },
  {
   "cell_type": "code",
   "execution_count": 2,
   "metadata": {
    "pycharm": {
     "name": "#%%\n"
    }
   },
   "outputs": [
    {
     "ename": "SyntaxError",
     "evalue": "invalid syntax (<ipython-input-2-f4249dd37c1f>, line 1)",
     "output_type": "error",
     "traceback": [
      "\u001B[0;36m  File \u001B[0;32m\"<ipython-input-2-f4249dd37c1f>\"\u001B[0;36m, line \u001B[0;32m1\u001B[0m\n\u001B[0;31m    velocity =\u001B[0m\n\u001B[0m               ^\u001B[0m\n\u001B[0;31mSyntaxError\u001B[0m\u001B[0;31m:\u001B[0m invalid syntax\n"
     ]
    }
   ],
   "source": [
    "velocity = \n",
    "acceleration = \n",
    "omega = \n",
    "A = "
   ]
  },
  {
   "cell_type": "markdown",
   "metadata": {},
   "source": [
    "Nun wird die Groundtruth erstellt. \n",
    "Berechnen Sie dazu die X- und Y-Koordinaten, \n",
    "sodass am Ende genau eine Schleife entsteht."
   ]
  },
  {
   "cell_type": "code",
   "execution_count": null,
   "metadata": {
    "pycharm": {
     "name": "#%%\n"
    }
   },
   "outputs": [],
   "source": [
    "from matplotlib import pyplot as plt\n",
    "figure = plt.figure(figsize=(16, 9))\n",
    "ax = figure.add_subplot(1, 1, 1)\n",
    "ax.set_xlabel(\"$x$\")\n",
    "ax.set_ylabel(\"$y$\")\n",
    "\n",
    "from stonesoup.types.groundtruth import GroundTruthPath, GroundTruthState\n",
    "\n",
    "truth = GroundTruthPath()\n",
    "period = \n",
    "\n",
    "for t in range(period):\n",
    "    x = \n",
    "    y = \n",
    "    \n",
    "    truth.append(GroundTruthState(np.array([[x], [y]]), timestamp=t))\n",
    "\n",
    "ax.plot([state.state_vector[0, 0] for state in truth], \n",
    "        [state.state_vector[1, 0] for state in truth], \n",
    "        linestyle=\"--\", color=\"grey\")"
   ]
  },
  {
   "cell_type": "markdown",
   "metadata": {},
   "source": [
    "Jetzt werden die Messungen generiert.\n",
    "In unserem Modell rechnen wir mit kartesischen Koordinaten.\n",
    "Die Berechnungen finden Sie in Foliensatz 3, bitte beachten Sie,\n",
    "dass unser \"Sensor\" nur alle 5 Sekunden eine neue Messung erstellen soll."
   ]
  },
  {
   "cell_type": "code",
   "execution_count": null,
   "metadata": {
    "pycharm": {
     "name": "#%%\n"
    }
   },
   "outputs": [],
   "source": [
    "from stonesoup.types.detection import Detection\n",
    "\n",
    "measurements = []\n",
    "for state in truth:\n",
    "    true_x = state.state_vector[0, 0]\n",
    "    true_y = state.state_vector[1, 0]\n",
    "    \n",
    "    measurements.append(Detection(np.array([[x], [y]]), timestamp=state.timestamp))\n",
    "    \n",
    "# Messungen plotten\n",
    "ax.scatter([state.state_vector[0, 0] for state in measurements], \n",
    "           [state.state_vector[1, 0] for state in measurements], \n",
    "           color='black', s = 10)\n",
    "\n",
    "figure"
   ]
  }
 ],
 "metadata": {
  "kernelspec": {
   "display_name": "Python 3",
   "language": "python",
   "name": "python3"
  },
  "language_info": {
   "codemirror_mode": {
    "name": "ipython",
    "version": 3
   },
   "file_extension": ".py",
   "mimetype": "text/x-python",
   "name": "python",
   "nbconvert_exporter": "python",
   "pygments_lexer": "ipython3",
   "version": "3.6.8"
  },
  "pycharm": {
   "stem_cell": {
    "cell_type": "raw",
    "source": [],
    "metadata": {
     "collapsed": false
    }
   }
  }
 },
 "nbformat": 4,
 "nbformat_minor": 1
}