{
 "cells": [
  {
   "cell_type": "markdown",
   "source": [
    "<h1 align=\"center\"> Sensordatenfusion Tutorium 03 </h1>\n",
    "\n",
    "<h3 align=\"center\"> Erstellen der Prädiktion </h3>"
   ],
   "metadata": {
    "collapsed": false
   }
  },
  {
   "cell_type": "markdown",
   "source": [
    "Für dieses Tutorium verwenden wir unser Dynamikmodell aus der letzten Übung.\n",
    "Um alles untereindander verwenden zu können bauen wir eine .py-Datei auf, in der am Ende dann\n",
    "das gesamte Filter läuft. Diese Datei (sdf_filter.py)ist auf eCampus in den Übungen zu finden mit allen Imports die\n",
    "notwendig sind (Diesen Teil könnt ihr also ignorieren).\n",
    "Fügt oben die Klassen \"PCWA-Model\" und \"SdfKalmanPredictor\" ein,\n",
    "darunter dann den Inhalt der Code-Zellen aus\n",
    "der ersten Übung, in der die Groundtruth und Messungen simuliert werden."
   ],
   "metadata": {
    "collapsed": false,
    "pycharm": {
     "name": "#%% md\n"
    }
   }
  },
  {
   "cell_type": "markdown",
   "source": [
    "Der Predictor muss ein transition_model übergeben bekommen, daher braucht ihr die Klasse aus dem\n",
    "letzten Tutorium:\n",
    "\n",
    "class PCWAModel(LinearGaussianTransitionModel, TimeVariantModel):\n",
    "\n",
    "    def matrix(self, timedelta=5, **kwargs):\n",
    "        delta_t = timedelta\n",
    "        F = np.array([[1, delta_t], [0, 1]])\n",
    "        return block_diag(F, F)\n",
    "\n",
    "\n",
    "    def covar(self, timedelta=5, **kwargs):\n",
    "        delta_t = timedelta\n",
    "        Sigma = 5.0\n",
    "\n",
    "        covar = np.array([[np.power(delta_t, 4) / 4,\n",
    "                           np.power(delta_t, 3) / 2],\n",
    "                          [np.power(delta_t, 3) / 2,\n",
    "                           np.power(delta_t, 2)]]) * np.power(Sigma, 2)\n",
    "\n",
    "        covar = block_diag(covar, covar)\n",
    "\n",
    "        return CovarianceMatrix(covar)"
   ],
   "metadata": {
    "collapsed": false,
    "pycharm": {
     "name": "#%% md\n"
    }
   }
  },
  {
   "cell_type": "markdown",
   "source": [
    "Die Prädiktion hat den Zweck, dass wir eine Zustandsschätzung basierend auf $x_{k-1|k-1}$ erhalten.\n",
    "Für $x_{k|k-1}$ benötigen wir lediglich noch unsere Evolutions-/Dynamikmatrix $F_{k|k-1}$, die im Zuge des zweiten Tutoriums erstellt wurde .\n",
    "Für die dazugehörige Kovarianz $P_{k|k-1}$ brauchen wir zusätzlich zu $F$ noch das Prozessrauschen $Q_{k|k-1}$ (in den Folien $D_{k|k-1}$).\n",
    "Ziel dieses Aufgabenteils ist es also, einen eigenen $Predictor$ zu erstellen, um $x_{k|k-1}$ und $P_{k|k-1}$ zu erhalten. \n",
    "\n"
   ],
   "metadata": {
    "collapsed": false
   }
  },
  {
   "cell_type": "code",
   "execution_count": null,
   "outputs": [],
   "source": [
    "from functools import lru_cache\n",
    "import scipy as sp\n",
    "import numpy as np\n",
    "from stonesoup.predictor import Predictor\n",
    "from stonesoup.types.prediction import GaussianStatePrediction\n"
   ],
   "metadata": {
    "collapsed": false,
    "pycharm": {
     "name": "#%%\n"
    }
   }
  },
  {
   "cell_type": "code",
   "execution_count": null,
   "outputs": [],
   "source": [
    "class SdfKalmanPredictor(Predictor):\n",
    "    @lru_cache()\n",
    "    def predict(self, prior, timestamp=None, **kwargs):\n",
    "        deltaT =\n",
    "        \n",
    "        transition_matrix = self.transition_model.matrix(timedelta=deltaT)\n",
    "        transition_noise_covar = self.transition_model.covar(timedelta=deltaT)\n",
    "        \n",
    "        prediction_mean =\n",
    "        prediction_covar = \n",
    "\n",
    "        return GaussianStatePrediction(prediction_mean,\n",
    "                                       prediction_covar,\n",
    "                                       timestamp)\n",
    "    "
   ],
   "metadata": {
    "collapsed": false,
    "pycharm": {
     "name": "#%%\n"
    }
   }
  },
  {
   "cell_type": "markdown",
   "source": [
    "Als Ausgabe erhalten wir $x_{k|k-1}$ und $P_{k|k-1}$, \n",
    "die im nächsten Tutorium im Filter-Schritt auf $x_{k|k}$ und $P_{k|k}$ aktualisiert werden."
   ],
   "metadata": {
    "collapsed": false
   }
  }
 ],
 "metadata": {
  "kernelspec": {
   "name": "pycharm-279e87eb",
   "language": "python",
   "display_name": "PyCharm (stonesoupFKIE)"
  },
  "language_info": {
   "codemirror_mode": {
    "name": "ipython",
    "version": 2
   },
   "file_extension": ".py",
   "mimetype": "text/x-python",
   "name": "python",
   "nbconvert_exporter": "python",
   "pygments_lexer": "ipython2",
   "version": "2.7.6"
  }
 },
 "nbformat": 4,
 "nbformat_minor": 0
}