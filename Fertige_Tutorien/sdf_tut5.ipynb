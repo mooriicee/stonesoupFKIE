{
 "cells": [
  {
   "cell_type": "markdown",
   "metadata": {
    "collapsed": true,
    "pycharm": {
     "name": "#%% md\n"
    }
   },
   "source": [
    "<h1 align=\"center\"> Sensordatenfusion Tutorium 05 </h1>\n",
    "\n",
    "<h3 align=\"center\"> Retrodiktion </h3>\n",
    "\n",
    "Ergänzen Sie die Funktion \"retrodict()\" so, dass der Retrodiktionsschritt des Kalman-Filters berechnet wird.\n",
    "\n"
   ]
  },
  {
   "cell_type": "code",
   "execution_count": null,
   "outputs": [],
   "source": [
    "\n",
    "import numpy as np\n",
    "from stonesoup.types.state import GaussianState\n",
    "\n",
    "def retrodict(current_state, prior_state, transition_model):\n",
    "    delta_t = current_state.timestamp - prior_state.timestamp\n",
    "    F = transition_model.matrix(timedelta = delta_t)\n",
    "    D = transition_model.covar(timedelta = delta_t)\n",
    "\n",
    "    x_ll = prior_state.mean     # Vorzustand (der verbessert wird)\n",
    "    P_ll = prior_state.covar\n",
    "\n",
    "    x_l1k = current_state.mean  # momentaner Zustand\n",
    "    P_l1k = current_state.covar\n",
    "\n",
    "    x_l1l = F @ x_ll    # predizierter Zustand\n",
    "    P_l1l = F @ P_ll @ np.transpose(F) + D\n",
    "\n",
    "    W_l1l = P_ll @ np.transpose(F) @ np.linalg.pinv(P_l1l)   # Gewichtsmatrix\n",
    "\n",
    "    x_lk = x_ll + W_l1l @ (x_l1k - x_l1l)   # verbesserter Zustand\n",
    "    P_lk = P_ll + W_l1l @ (P_l1k - P_l1l) @ np.transpose(W_l1l)\n",
    "\n",
    "    return GaussianState(x_lk, P_lk, timestamp=prior_state.timestamp)"
   ],
   "metadata": {
    "collapsed": false,
    "pycharm": {
     "name": "#%%\n"
    }
   }
  }
 ],
 "metadata": {
  "kernelspec": {
   "display_name": "Python 3",
   "language": "python",
   "name": "python3"
  },
  "language_info": {
   "codemirror_mode": {
    "name": "ipython",
    "version": 2
   },
   "file_extension": ".py",
   "mimetype": "text/x-python",
   "name": "python",
   "nbconvert_exporter": "python",
   "pygments_lexer": "ipython2",
   "version": "2.7.6"
  },
  "pycharm": {
   "stem_cell": {
    "cell_type": "raw",
    "source": [],
    "metadata": {
     "collapsed": false
    }
   }
  }
 },
 "nbformat": 4,
 "nbformat_minor": 0
}