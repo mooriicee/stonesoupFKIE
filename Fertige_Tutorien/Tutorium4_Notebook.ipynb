{
 "cells": [
  {
   "cell_type": "markdown",
   "metadata": {
    "collapsed": true,
    "pycharm": {
     "name": "#%% md\n"
    }
   },
   "source": [
    "<h1 align=\"center\"> Sensordatenfusion Tutorium 04 </h1>\n",
    "\n",
    "<h3 align=\"center\"> Messmodel und Updater </h3>\n"
   ]
  },
  {
   "cell_type": "markdown",
   "source": [
    "Ziel dieses Tutoriums ist es, $x_{k|k}$ und $P_{k|k}$ zu erhalten, also den Filter-Schritt durchzuführen.\n",
    "Dazu benötigen wir noch die Messmatrix $H_k$ und ein Rauschen $R_k$.\n",
    "\n",
    "$H$ = $\\begin{bmatrix}\n",
    "  1 & 0 & 0 & 0 \\\\\n",
    "  0 & 0 & 1 & 0  \\\\\n",
    "\\end{bmatrix}$\n",
    "\n",
    "$R$ = $\\begin{bmatrix}\n",
    "  \\sigma² & 0  \\\\\n",
    "  0 & \\sigma²  \\\\\n",
    "\\end{bmatrix}$\n",
    "wobei $\\sigma$ = 50"
   ],
   "metadata": {
    "collapsed": false
   }
  },
  {
   "cell_type": "code",
   "source": [
    "import numpy as np\n",
    "\n",
    "from stonesoup.types.array import CovarianceMatrix\n",
    "\n",
    "from scipy.stats import multivariate_normal\n",
    "\n",
    "from stonesoup.models.base import LinearModel, GaussianModel\n",
    "from stonesoup.models.measurement.base import MeasurementModel"
   ],
   "metadata": {
    "collapsed": false,
    "pycharm": {
     "name": "#%% \n"
    }
   },
   "execution_count": 1,
   "outputs": []
  },
  {
   "cell_type": "markdown",
   "source": [
    "<h3 align=\"center\"> Messmodell erstellen </h3>"
   ],
   "metadata": {
    "collapsed": false,
    "pycharm": {
     "name": "#%% md\n",
     "is_executing": false
    }
   }
  },
  {
   "cell_type": "code",
   "execution_count": 3,
   "outputs": [],
   "source": [
    "class SDFMessmodell(MeasurementModel, LinearModel, GaussianModel):\n",
    "    \n",
    "    @property\n",
    "    def ndim_meas(self):\n",
    "        return 2\n",
    "    \n",
    "    def matrix(self, **kwargs):\n",
    "        model_matrix = \"\"\"Matrix H\"\"\"\n",
    "        return model_matrix\n",
    "    \n",
    "    def covar(self):\n",
    "        noise_matrix = \"\"\"Matrix R\"\"\"\n",
    "        return CovarianceMatrix(noise_matrix)\n",
    "    \n",
    "    def rvs(self):\n",
    "        # sample ziehen aus der Kovarianzmatrix\n",
    "        noise = multivariate_normal.rvs(np.zeros(self.ndim_meas), self.covar(), 1)\n",
    "        return noise.reshape((-1, 1))\n",
    "    \n",
    "    def pdf(self):\n",
    "        pass\n",
    "    \n",
    "    \n",
    "    "
   ],
   "metadata": {
    "collapsed": false,
    "pycharm": {
     "name": "#%%\n"
    }
   }
  },
  {
   "cell_type": "code",
   "execution_count": 4,
   "outputs": [],
   "source": [
    "messmodell = SDFMessmodell(4, (0, 2))   # Messmodell initiieren"
   ],
   "metadata": {
    "collapsed": false,
    "pycharm": {
     "name": "#%%\n"
    }
   }
  },
  {
   "cell_type": "code",
   "execution_count": 5,
   "outputs": [
    {
     "data": {
      "text/plain": "'Matrix H'"
     },
     "execution_count": 5,
     "metadata": {},
     "output_type": "execute_result"
    }
   ],
   "source": [
    "messmodell.matrix() # zum testen ob eure Matrix richtig definiert ist"
   ],
   "metadata": {
    "collapsed": false,
    "pycharm": {
     "name": "#%%\n"
    }
   }
  },
  {
   "cell_type": "code",
   "execution_count": 6,
   "outputs": [
    {
     "data": {
      "text/plain": "'Matrix R'"
     },
     "execution_count": 6,
     "metadata": {},
     "output_type": "execute_result"
    }
   ],
   "source": [
    "messmodell.covar()  # zum testen ob eure Matrix richtig definiert ist\n"
   ],
   "metadata": {
    "collapsed": false,
    "pycharm": {
     "name": "#%%\n"
    }
   }
  },
  {
   "cell_type": "markdown",
   "source": [
    "<h4 align=\"center\"> Imports für den Updater </h3>"
   ],
   "metadata": {
    "collapsed": false,
    "pycharm": {
     "name": "#%% md\n"
    }
   }
  },
  {
   "cell_type": "code",
   "execution_count": 7,
   "outputs": [],
   "source": [
    "from stonesoup.updater.base import Updater\n",
    "from stonesoup.types.hypothesis import SingleHypothesis\n",
    "from stonesoup.types.prediction import GaussianMeasurementPrediction\n",
    "from stonesoup.types.update import GaussianStateUpdate"
   ],
   "metadata": {
    "collapsed": false,
    "pycharm": {
     "name": "#%%\n"
    }
   }
  },
  {
   "cell_type": "markdown",
   "source": [
    "<h3 align=\"center\"> Updater erstellen </h3>"
   ],
   "metadata": {
    "collapsed": false,
    "pycharm": {
     "name": "#%% md\n"
    }
   }
  },
  {
   "cell_type": "code",
   "execution_count": 8,
   "outputs": [],
   "source": [
    "class SDFUpdater(Updater):\n",
    "\n",
    "    def get_measurement_prediction(self, state_prediction, measurement_model=None, **kwargs):\n",
    "        x_pre = state_prediction\n",
    "        Messmatrix = measurement_model.matrix()\n",
    "        messprediction = \"\"\" H @ xk|k-1 \"\"\"\n",
    "        return messprediction\n",
    "\n",
    "\n",
    "    def update(self, hypothesis, measurementmodel, **kwargs):\n",
    "        \n",
    "        measurement_matrix = measurementmodel.matrix()  # H\n",
    "        measurement_noise_covar = measurementmodel.covar()  # R\n",
    "        prediction_covar = hypothesis.prediction.covar  # P\n",
    "        prediction_mean = hypothesis.prediction.mean    # x_k|k-1\n",
    "        measurement_mean = hypothesis.measurement.state_vector  # z_k\n",
    "        messprediction = self.get_measurement_prediction(prediction_mean, measurementmodel)\n",
    "\n",
    "        \"\"\" v (Innovation), S und W  definieren\"\"\"\n",
    "        \n",
    "        x_post = \"\"\" x_k|k  berechnen\"\"\"\n",
    "        P_post = \"\"\" P_k|k  berechnen\"\"\"\n",
    "\n",
    "        hypothesis = SingleHypothesis(hypothesis.prediction,\n",
    "                                      hypothesis.measurement,\n",
    "                                      GaussianMeasurementPrediction(\n",
    "                                          messprediction, S,\n",
    "                                          hypothesis.prediction.timestamp)\n",
    "                                      )\n",
    "\n",
    "        return GaussianStateUpdate(x_post,\n",
    "                                   P_post,\n",
    "                                   hypothesis,\n",
    "                                   hypothesis.measurement.timestamp)"
   ],
   "metadata": {
    "collapsed": false,
    "pycharm": {
     "name": "#%%\n"
    }
   }
  }
 ],
 "metadata": {
  "kernelspec": {
   "name": "python3",
   "language": "python",
   "display_name": "Python 3"
  },
  "language_info": {
   "codemirror_mode": {
    "name": "ipython",
    "version": 2
   },
   "file_extension": ".py",
   "mimetype": "text/x-python",
   "name": "python",
   "nbconvert_exporter": "python",
   "pygments_lexer": "ipython2",
   "version": "2.7.6"
  }
 },
 "nbformat": 4,
 "nbformat_minor": 0
}