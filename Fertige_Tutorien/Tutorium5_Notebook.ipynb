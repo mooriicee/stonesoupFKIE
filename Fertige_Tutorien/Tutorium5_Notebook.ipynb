{
 "cells": [
  {
   "cell_type": "markdown",
   "metadata": {
    "collapsed": true,
    "pycharm": {
     "name": "#%% md\n"
    }
   },
   "source": [
    "<h1 align=\"center\"> Sensordatenfusion Tutorium 05 </h1>\n",
    "\n",
    "<h3 align=\"center\"> Retrodiktion </h3>\n",
    "\n",
    "Ergänzen Sie die Funktion \"retrodict()\" so,\n",
    "dass der Retrodiktionsschritt des Kalman-Filters berechnet wird.\n",
    "Berechnen Sie $x_{l|k}$ und $P_{l|k}$.\n",
    "\n",
    "Die zugehörigen Berechnungen finden Sie in den Folien.\n",
    "Benötigte Komponenten sind: $x_{l+1|l}$, $P_{l+1|l}$, $W_{l+1|l}$.\n",
    "Daraus berechnen Sie dann $x_{l|k}$ und $P_{l|k}$"
   ]
  },
  {
   "cell_type": "code",
   "execution_count": null,
   "outputs": [],
   "source": [
    "\n",
    "import numpy as np\n",
    "from stonesoup.types.state import GaussianState\n",
    "\n",
    "def retrodict(current_state, prior_state, transition_model):\n",
    "    delta_t = current_state.timestamp - prior_state.timestamp\n",
    "    F = transition_model.matrix(timedelta = delta_t)\n",
    "    D = transition_model.covar(timedelta = delta_t)\n",
    "\n",
    "    x_ll = prior_state.mean     # Vorzustand (der verbessert wird)\n",
    "    P_ll = prior_state.covar\n",
    "\n",
    "    x_l1k = current_state.mean  # aktueller Zustand\n",
    "    P_l1k = current_state.covar\n",
    "    \n",
    "    \n",
    "\n",
    "    return GaussianState(x_lk, P_lk, timestamp=prior_state.timestamp)"
   ],
   "metadata": {
    "collapsed": false,
    "pycharm": {
     "name": "#%%\n"
    }
   }
  }
 ],
 "metadata": {
  "kernelspec": {
   "display_name": "Python 3",
   "language": "python",
   "name": "python3"
  },
  "language_info": {
   "codemirror_mode": {
    "name": "ipython",
    "version": 2
   },
   "file_extension": ".py",
   "mimetype": "text/x-python",
   "name": "python",
   "nbconvert_exporter": "python",
   "pygments_lexer": "ipython2",
   "version": "2.7.6"
  }
 },
 "nbformat": 4,
 "nbformat_minor": 0
}