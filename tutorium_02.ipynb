{
 "cells": [
  {
   "cell_type": "markdown",
   "metadata": {
    "collapsed": true,
    "pycharm": {
     "name": "#%% md\n"
    }
   },
   "source": [
    "<h1 align=\"center\"> Sensordatenfusion Tutorium 02 </h1>\n",
    "\n",
    "<h3 align=\"center\"> Erstellen des Transitionsmodells </h3>"
   ]
  },
  {
   "cell_type": "code",
   "execution_count": 16,
   "outputs": [],
   "source": [
    "import numpy as np\n",
    "from scipy.linalg import block_diag\n",
    "\n",
    "from stonesoup.types.array import CovarianceMatrix\n",
    "from stonesoup.models.base import (TimeVariantModel)\n",
    "from stonesoup.models.transition.linear import LinearGaussianTransitionModel"
   ],
   "metadata": {
    "collapsed": false,
    "pycharm": {
     "name": "#%%\n"
    }
   }
  },
  {
   "cell_type": "markdown",
   "source": [
    "Wir benötigen unser Transitionsmodell, um letztendlich basierend auf unseren alten Kenntnissen eine\n",
    "Prädiktion für die Zukunft erstellen zu können. Hierfür gibt es verschiedene Ansätze, \n",
    "im Folgenden werden wir mit dem $Piecewise Constant White Acceleration Model$ arbeiten:"
   ],
   "metadata": {
    "collapsed": false
   }
  },
  {
   "cell_type": "markdown",
   "source": [
    "$\\Delta T$ = $t_k$ - $t_{k-1}$"
   ],
   "metadata": {
    "collapsed": false
   }
  },
  {
   "cell_type": "markdown",
   "source": [
    "$F_{k|k-1}$ = $\\begin{bmatrix}\n",
    "  1 & \\Delta T_k  \\\\\n",
    "  0 & 1  \\\\\n",
    "\\end{bmatrix}$ "
   ],
   "metadata": {
    "collapsed": false
   }
  },
  {
   "cell_type": "markdown",
   "source": [
    "$D_{k|k-1}$ = $\\Sigma^2_k$ * $\\begin{bmatrix}\n",
    "  \\frac{1}{4}\\Delta T^4_k 1 & \\frac{1}{2}\\Delta T^3_k 1  \\\\\n",
    "  \\frac{1}{2}\\Delta T^3_k 1 & \\Delta T^2_k 1  \\\\\n",
    "\\end{bmatrix}$\n",
    "\n",
    "Wichtig für das Verständnis: $\\Sigma^2_k$ ist hierbei kein Summenzeichen, sondern ein regulärer Vorfaktor!\n"
   ],
   "metadata": {
    "collapsed": false
   }
  },
  {
   "cell_type": "code",
   "execution_count": 17,
   "outputs": [],
   "source": [
    "class PCWAModel(LinearGaussianTransitionModel, TimeVariantModel):\n",
    "\n",
    "    def matrix(self, timedelta=5, **kwargs):\n",
    "        delta_t = timedelta\n",
    "        F = np.array([[1, delta_t], [0, 1]])\n",
    "        return block_diag(F, F)\n",
    "\n",
    "    def covar(self, timedelta=5, **kwargs):\n",
    "        delta_t = timedelta\n",
    "        Sigma = 5.0\n",
    "\n",
    "        covar = np.array([[np.power(delta_t, 4) / 4,\n",
    "                           np.power(delta_t, 3) / 2],\n",
    "                          [np.power(delta_t, 3) / 2,\n",
    "                           np.power(delta_t, 2)]]) * np.power(Sigma, 2)\n",
    "\n",
    "        covar = block_diag(covar, covar)\n",
    "\n",
    "        return CovarianceMatrix(covar)"
   ],
   "metadata": {
    "collapsed": false,
    "pycharm": {
     "name": "#%%\n"
    }
   }
  },
  {
   "cell_type": "code",
   "execution_count": 18,
   "outputs": [
    {
     "name": "stdout",
     "output_type": "stream",
     "text": [
      "[[1 5 0 0]\n",
      " [0 1 0 0]\n",
      " [0 0 1 5]\n",
      " [0 0 0 1]]\n",
      "D:\n"
     ]
    },
    {
     "data": {
      "text/plain": "CovarianceMatrix([[3906.25, 1562.5 ,    0.  ,    0.  ],\n                  [1562.5 ,  625.  ,    0.  ,    0.  ],\n                  [   0.  ,    0.  , 3906.25, 1562.5 ],\n                  [   0.  ,    0.  , 1562.5 ,  625.  ]])"
     },
     "execution_count": 18,
     "metadata": {},
     "output_type": "execute_result"
    }
   ],
   "source": [
    "transition_model = PCWAModel()\n",
    "print( transition_model.matrix())\n",
    "print(\"D:\")\n",
    "transition_model.covar()\n"
   ],
   "metadata": {
    "collapsed": false,
    "pycharm": {
     "name": "#%%\n"
    }
   }
  }
 ],
 "metadata": {
  "kernelspec": {
   "name": "python3",
   "language": "python",
   "display_name": "Python 3"
  },
  "language_info": {
   "codemirror_mode": {
    "name": "ipython",
    "version": 2
   },
   "file_extension": ".py",
   "mimetype": "text/x-python",
   "name": "python",
   "nbconvert_exporter": "python",
   "pygments_lexer": "ipython2",
   "version": "2.7.6"
  }
 },
 "nbformat": 4,
 "nbformat_minor": 0
}