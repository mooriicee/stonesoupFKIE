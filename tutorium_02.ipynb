{
 "cells": [
  {
   "cell_type": "markdown",
   "metadata": {
    "collapsed": true,
    "pycharm": {
     "name": "#%% md\n"
    }
   },
   "source": [
    "<h1 align=\"center\"> Sensordatenfusion Tutorium 02 </h1>\n",
    "\n",
    "<h3 align=\"center\"> Erstellen des Transitionsmodells </h3>"
   ]
  },
  {
   "cell_type": "code",
   "execution_count": 7,
   "outputs": [],
   "source": [
    "import scipy as sp\n",
    "\n",
    "from stonesoup.types.array import CovarianceMatrix\n",
    "from stonesoup.models.base import (TimeVariantModel)\n",
    "from stonesoup.models.transition.linear import LinearGaussianTransitionModel"
   ],
   "metadata": {
    "collapsed": false,
    "pycharm": {
     "name": "#%%\n",
     "is_executing": false
    }
   }
  },
  {
   "cell_type": "markdown",
   "source": [
    "Im Folgenden werden wir mit dem $Piecewise Constant White Acceleration Model$ arbeiten.\n",
    "\n",
    "\n",
    "Dieses finden Sie in Foliensatz 3, ab Folie 42.\n",
    " \n",
    " Bestandteile des $PCWA-Models$ sind die zeitliche Veränderung $\\Delta T$, die Transitionsmatrix $F_{k|k-1}$ und \n",
    "das Rauschen $D_{k|k-1}$.\n",
    "\n",
    "Diese ergeben sich wie folgt:"
   ],
   "metadata": {
    "collapsed": false
   }
  },
  {
   "cell_type": "markdown",
   "source": [
    "$\\Delta T$ = $t_k$ - $t_{k-1}$"
   ],
   "metadata": {
    "collapsed": false,
    "pycharm": {
     "name": "#%% md\n"
    }
   }
  },
  {
   "cell_type": "markdown",
   "source": [
    "$F_{k|k-1}$ = $\\begin{bmatrix}\n",
    "  1 & \\Delta T_k  \\\\\n",
    "  0 & 1  \\\\\n",
    "\\end{bmatrix}$ "
   ],
   "metadata": {
    "collapsed": false,
    "pycharm": {
     "name": "#%% md\n"
    }
   }
  },
  {
   "cell_type": "markdown",
   "source": [
    "$D_{k|k-1}$ = $\\Sigma^2_k$ * $\\begin{bmatrix}\n",
    "  \\frac{1}{4}\\Delta T^4_k 1 & \\frac{1}{2}\\Delta T^3_k 1  \\\\\n",
    "  \\frac{1}{2}\\Delta T^3_k 1 & \\Delta T^2_k 1  \\\\\n",
    "\\end{bmatrix}$\n",
    "\n",
    "Wichtig für das Verständnis: $\\Sigma^2_k$ ist hierbei kein Summenzeichen, sondern ein regulärer Vorfaktor!\n"
   ],
   "metadata": {
    "collapsed": false,
    "pycharm": {
     "name": "#%% md\n"
    }
   }
  },
  {
   "cell_type": "markdown",
   "source": [
    "class PCWAModel(LinearGaussianTransitionModel, TimeVariantModel):\n",
    "\n",
    "    def matrix(self, time_interval, **kwargs):\n",
    "        delta_t = int(time_interval.total_seconds())\n",
    "        return sp.array([[1, delta_t], [0, 1]])\n",
    "\n",
    "    def covar(self, time_interval, **kwargs):\n",
    "        time_interval_sec = int(time_interval.total_seconds())\n",
    "        Sigma = 5.0\n",
    "\n",
    "        covar = sp.array([[sp.power(time_interval_sec, 4) / 4,\n",
    "                           sp.power(time_interval_sec, 3) / 2],\n",
    "                          [sp.power(time_interval_sec, 3) / 2,\n",
    "                           sp.power(time_interval_sec, 2)]]) * sp.power(Sigma, 2)\n",
    "\n",
    "        return CovarianceMatrix(covar)"
   ],
   "metadata": {
    "collapsed": false,
    "pycharm": {
     "name": "#%% md\n"
    }
   }
  },
  {
   "cell_type": "code",
   "execution_count": 8,
   "outputs": [],
   "source": [
    "class PCWAModel(LinearGaussianTransitionModel, TimeVariantModel):\n",
    "\n",
    "    def matrix(self, time_interval, **kwargs):\n",
    "        delta_t = int(time_interval.total_seconds())\n",
    "        return sp.array([[1, delta_t], [0, 1]])\n",
    "\n",
    "    def covar(self, time_interval, **kwargs):\n",
    "        time_interval_sec = int(time_interval.total_seconds())\n",
    "        Sigma = 5.0\n",
    "\n",
    "        covar = sp.array([[sp.power(time_interval_sec, 4) / 4,\n",
    "                           sp.power(time_interval_sec, 3) / 2],\n",
    "                          [sp.power(time_interval_sec, 3) / 2,\n",
    "                           sp.power(time_interval_sec, 2)]]) * sp.power(Sigma, 2)\n",
    "\n",
    "        return CovarianceMatrix(covar)"
   ],
   "metadata": {
    "collapsed": false,
    "pycharm": {
     "name": "#%%\n",
     "is_executing": false
    }
   }
  }
 ],
 "metadata": {
  "kernelspec": {
   "name": "pycharm-c80bf70",
   "language": "python",
   "display_name": "PyCharm (stonesoupFKIE)"
  },
  "language_info": {
   "codemirror_mode": {
    "name": "ipython",
    "version": 2
   },
   "file_extension": ".py",
   "mimetype": "text/x-python",
   "name": "python",
   "nbconvert_exporter": "python",
   "pygments_lexer": "ipython2",
   "version": "2.7.6"
  },
  "pycharm": {
   "stem_cell": {
    "cell_type": "raw",
    "source": [],
    "metadata": {
     "collapsed": false
    }
   }
  }
 },
 "nbformat": 4,
 "nbformat_minor": 0
}