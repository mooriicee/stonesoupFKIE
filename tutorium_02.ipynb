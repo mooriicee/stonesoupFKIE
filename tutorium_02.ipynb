{
 "cells": [
  {
   "cell_type": "markdown",
   "metadata": {
    "collapsed": true,
    "pycharm": {
     "name": "#%% md\n"
    }
   },
   "source": [
    "<h1 align=\"center\"> Sensordatenfusion Tutorium 02 </h1>\n",
    "\n",
    "<h3 align=\"center\"> Erstellen des Transitionsmodells </h3>"
   ]
  },
  {
   "cell_type": "code",
   "execution_count": 7,
   "outputs": [],
   "source": [
    "import scipy as sp\n",
    "\n",
    "from stonesoup.types.array import CovarianceMatrix\n",
    "from stonesoup.models.base import (TimeVariantModel)\n",
    "from stonesoup.models.transition.linear import LinearGaussianTransitionModel"
   ],
   "metadata": {
    "collapsed": false,
    "pycharm": {
     "name": "#%%\n",
     "is_executing": false
    }
   }
  },
  {
   "cell_type": "markdown",
   "source": [
    "<h3 align=\"center\"> Transitionsmatrix H </h3>\n",
    "\n",
    "\\begin{pmatrix}\n",
    "1 & \\Delta t \\\\\n",
    "0 & 1\n",
    "\\end{pmatrix}"
   ],
   "metadata": {
    "collapsed": false,
    "pycharm": {
     "name": "#%% md\n"
    }
   }
  },
  {
   "cell_type": "code",
   "execution_count": 8,
   "outputs": [],
   "source": [
    "class PCWAModel(LinearGaussianTransitionModel, TimeVariantModel):\n",
    "\n",
    "    def matrix(self, time_interval, **kwargs):\n",
    "        delta_t = int(time_interval.total_seconds())\n",
    "        return sp.array([[1, delta_t], [0, 1]])\n",
    "\n",
    "    def covar(self, time_interval, **kwargs):\n",
    "        time_interval_sec = int(time_interval.total_seconds())\n",
    "        Sigma = 5.0\n",
    "\n",
    "        covar = sp.array([[sp.power(time_interval_sec, 4) / 4,\n",
    "                           sp.power(time_interval_sec, 3) / 2],\n",
    "                          [sp.power(time_interval_sec, 3) / 2,\n",
    "                           sp.power(time_interval_sec, 2)]]) * sp.power(Sigma, 2)\n",
    "\n",
    "        return CovarianceMatrix(covar)"
   ],
   "metadata": {
    "collapsed": false,
    "pycharm": {
     "name": "#%%\n",
     "is_executing": false
    }
   }
  }
 ],
 "metadata": {
  "kernelspec": {
   "name": "pycharm-c80bf70",
   "language": "python",
   "display_name": "PyCharm (stonesoupFKIE)"
  },
  "language_info": {
   "codemirror_mode": {
    "name": "ipython",
    "version": 2
   },
   "file_extension": ".py",
   "mimetype": "text/x-python",
   "name": "python",
   "nbconvert_exporter": "python",
   "pygments_lexer": "ipython2",
   "version": "2.7.6"
  },
  "pycharm": {
   "stem_cell": {
    "cell_type": "raw",
    "source": [],
    "metadata": {
     "collapsed": false
    }
   }
  }
 },
 "nbformat": 4,
 "nbformat_minor": 0
}