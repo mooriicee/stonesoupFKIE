{
 "cells": [
  {
   "cell_type": "markdown",
   "metadata": {
    "collapsed": true,
    "pycharm": {
     "name": "#%% md\n"
    }
   },
   "source": [
    "<h1 align=\"center\"> Sensordatenfusion Tutorium 02 </h1>\n",
    "\n",
    "<h3 align=\"center\"> Erstellen des Transitionsmodells </h3>"
   ]
  },
  {
   "cell_type": "code",
   "execution_count": null,
   "outputs": [],
   "source": [
    "import scipy as sp\n",
    "from stonesoup import *\n",
    "from scipy.stats import multivariate_normal\n",
    "from scipy.linalg import block_diag\n",
    "\n",
    "from stonesoup.types.array import CovarianceMatrix\n",
    "from stonesoup.models.base import (LinearModel, GaussianModel, TimeVariantModel,\n",
    "                    TimeInvariantModel)\n",
    "from stonesoup.base import Property\n",
    "from stonesoup.models.transition import TransitionModel\n",
    "from stonesoup.models.transition.linear import LinearGaussianTransitionModel"
   ],
   "metadata": {
    "collapsed": false,
    "pycharm": {
     "name": "#%%\n"
    }
   }
  },
  {
   "cell_type": "code",
   "execution_count": null,
   "outputs": [],
   "source": [
    "class PCWAModel(LinearGaussianTransitionModel, TimeVariantModel):\n",
    "    \n",
    "    def matrix(self, time_interval, **kwargs):\n",
    "        return sp.array([[1, time_interval.total_seconds()], [0, 1]])\n",
    "    \n",
    "    \n",
    "    def covar(self, time_interval, **kwargs):\n",
    "        time_interval_sec = time_interval.total_seconds()\n",
    "        \n",
    "        Sigma = 5\n",
    "        \n",
    "        covar = sp.array([[sp.power(time_interval_sec, 3)/3,\n",
    "                           sp.power(time_interval_sec, 2)/2],\n",
    "                          [sp.power(time_interval_sec, 2)/2,\n",
    "                           time_interval_sec]]) * Sigma\n",
    "        \n",
    "        return CovarianceMatrix(covar)\n"
   ],
   "metadata": {
    "collapsed": false,
    "pycharm": {
     "name": "#%%\n"
    }
   }
  }
 ],
 "metadata": {
  "kernelspec": {
   "display_name": "Python 3",
   "language": "python",
   "name": "python3"
  },
  "language_info": {
   "codemirror_mode": {
    "name": "ipython",
    "version": 2
   },
   "file_extension": ".py",
   "mimetype": "text/x-python",
   "name": "python",
   "nbconvert_exporter": "python",
   "pygments_lexer": "ipython2",
   "version": "2.7.6"
  },
  "pycharm": {
   "stem_cell": {
    "cell_type": "raw",
    "source": [],
    "metadata": {
     "collapsed": false
    }
   }
  }
 },
 "nbformat": 4,
 "nbformat_minor": 0
}