{
 "cells": [
  {
   "cell_type": "markdown",
   "metadata": {},
   "source": [
    "<h1 align=\"center\"> SDF Tutorien als StoneSoup Notebook </h1>\n",
    "<h3 align=\"center\"> Aufgaben mit dem Framework programmieren </h3>"
   ]
  },
  {
   "cell_type": "code",
   "execution_count": 1,
   "metadata": {
    "pycharm": {
     "is_executing": false,
     "name": "#%%\n"
    }
   },
   "outputs": [],
   "source": [
    "from stonesoup.base import Property\n",
    "%matplotlib qt\n",
    "\n",
    "from datetime import timedelta\n",
    "from datetime import datetime\n",
    "\n",
    "import numpy as np"
   ]
  },
  {
   "cell_type": "markdown",
   "metadata": {},
   "source": [
    "<h2 align=\"center\"> Erstellen der Ausgabe </h2>"
   ]
  },
  {
   "cell_type": "code",
   "execution_count": 2,
   "metadata": {
    "pycharm": {
     "is_executing": false,
     "name": "#%%\n"
    }
   },
   "outputs": [],
   "source": [
    "velocity = 300.0\n",
    "acceleration = 9.0\n",
    "omega = acceleration / ( 2 * velocity)\n",
    "A = (velocity**2) / acceleration"
   ]
  },
  {
   "cell_type": "code",
   "execution_count": 3,
   "metadata": {
    "pycharm": {
     "is_executing": false,
     "name": "#%%\n"
    }
   },
   "outputs": [
    {
     "traceback": [
      "\u001b[0;31m---------------------------------------------------------------------------\u001b[0m",
      "\u001b[0;31mTypeError\u001b[0m                                 Traceback (most recent call last)",
      "\u001b[0;32m<ipython-input-3-5e33fb83ed8f>\u001b[0m in \u001b[0;36m<module>\u001b[0;34m\u001b[0m\n\u001b[1;32m     13\u001b[0m \u001b[0;31m# data = np.linspace(0, (2 * np.pi )/ omega, 84, endpoint = True)\u001b[0m\u001b[0;34m\u001b[0m\u001b[0;34m\u001b[0m\u001b[0;34m\u001b[0m\u001b[0m\n\u001b[1;32m     14\u001b[0m \u001b[0mdata\u001b[0m \u001b[0;34m=\u001b[0m \u001b[0;34m[\u001b[0m\u001b[0;34m]\u001b[0m\u001b[0;34m\u001b[0m\u001b[0;34m\u001b[0m\u001b[0m\n\u001b[0;32m---> 15\u001b[0;31m \u001b[0;32mfor\u001b[0m \u001b[0mi\u001b[0m \u001b[0;32min\u001b[0m \u001b[0mrange\u001b[0m\u001b[0;34m(\u001b[0m\u001b[0;34m(\u001b[0m\u001b[0;36m2\u001b[0m \u001b[0;34m*\u001b[0m \u001b[0mnp\u001b[0m\u001b[0;34m.\u001b[0m\u001b[0mpi\u001b[0m\u001b[0;34m)\u001b[0m \u001b[0;34m/\u001b[0m \u001b[0momega\u001b[0m \u001b[0;34m)\u001b[0m\u001b[0;34m:\u001b[0m\u001b[0;34m\u001b[0m\u001b[0;34m\u001b[0m\u001b[0m\n\u001b[0m\u001b[1;32m     16\u001b[0m     \u001b[0mdata\u001b[0m\u001b[0;34m.\u001b[0m\u001b[0mappend\u001b[0m\u001b[0;34m(\u001b[0m\u001b[0mi\u001b[0m\u001b[0;34m)\u001b[0m\u001b[0;34m\u001b[0m\u001b[0;34m\u001b[0m\u001b[0m\n\u001b[1;32m     17\u001b[0m \u001b[0;34m\u001b[0m\u001b[0m\n",
      "\u001b[0;31mTypeError\u001b[0m: 'float' object cannot be interpreted as an integer"
     ],
     "ename": "TypeError",
     "evalue": "'float' object cannot be interpreted as an integer",
     "output_type": "error"
    }
   ],
   "source": [
    "# Figure to plot truth (and future data)\n",
    "from matplotlib import pyplot as plt\n",
    "figure = plt.figure(figsize=(16, 9))\n",
    "ax = figure.add_subplot(1, 1, 1)\n",
    "ax.set_xlabel(\"$x$\")\n",
    "ax.set_ylabel(\"$y$\")\n",
    "\n",
    "from stonesoup.types.groundtruth import GroundTruthPath, GroundTruthState\n",
    "\n",
    "truth = GroundTruthPath()\n",
    "start_time = datetime.now()\n",
    "\n",
    "# data = np.linspace(0, (2 * np.pi )/ omega, 84, endpoint = True)\n",
    "data = []\n",
    "for i in range((2 * np.pi) / omega ):\n",
    "    data.append(i)\n",
    "\n",
    "for t in data:\n",
    "    x = A * np.sin(omega * t)\n",
    "    y = A * np.sin(2 * omega * t)\n",
    "    truth.append(GroundTruthState(np.array([[x], [y]]), timestamp=t))\n",
    "    # truth.append(GroundTruthState(np.array([[x], [y]]), timestamp=start_time+timedelta(seconds=t)))\n",
    "    \n",
    "    \n",
    "ax.plot([state.state_vector[0, 0] for state in truth], \n",
    "        [state.state_vector[1, 0] for state in truth], \n",
    "        linestyle=\"--\", color=\"grey\")"
   ]
  },
  {
   "cell_type": "markdown",
   "metadata": {},
   "source": [
    "Groundtruth erstellt, jetzt Messungen generieren."
   ]
  },
  {
   "cell_type": "code",
   "execution_count": null,
   "metadata": {
    "pycharm": {
     "is_executing": false,
     "name": "#%%\n"
    }
   },
   "outputs": [],
   "source": [
    "from stonesoup.types.detection import Detection\n",
    "\n",
    "measurements = []\n",
    "for state in truth:\n",
    "    xOffset = 50 * np.random.normal(0, 1, 1)\n",
    "    yOffset = 50 * np.random.normal(0, 1, 1)\n",
    "    x = state.state_vector[0, 0]\n",
    "    y = state.state_vector[1, 0]\n",
    "    measurements.append(Detection(\n",
    "        np.array([[x] + xOffset, [y] + yOffset]), timestamp=state.timestamp))\n",
    "\n",
    "    \n",
    "# Plot the result\n",
    "ax.scatter([state.state_vector[0, 0] for state in measurements], \n",
    "           [state.state_vector[1, 0] for state in measurements], \n",
    "           color='black', s = 10)\n",
    "figure"
   ]
  },
  {
   "cell_type": "markdown",
   "metadata": {},
   "source": [
    "Transitionsmodell erstellen\n",
    "----------------------------\n",
    "Transitionsmatrix $F$ und Prozessrauschen $Q$ erstellen"
   ]
  },
  {
   "cell_type": "code",
   "execution_count": null,
   "metadata": {
    "pycharm": {
     "is_executing": false,
     "name": "#%%\n"
    }
   },
   "outputs": [],
   "source": [
    "from stonesoup.models.transition.linear import CombinedLinearGaussianTransitionModel, ConstantVelocity\n",
    "from tutorienklassen import PCWAModel\n",
    "\n",
    "transition_model = PCWAModel()\n",
    "transition_model_Kalman = CombinedLinearGaussianTransitionModel((ConstantVelocity(0.5), ConstantVelocity(0.5)))\n"
   ]
  },
  {
   "cell_type": "code",
   "execution_count": null,
   "metadata": {
    "pycharm": {
     "is_executing": false,
     "name": "#%%\n"
    }
   },
   "outputs": [],
   "source": [
    "transition_model.matrix(time_interval=timedelta(seconds=5))"
   ]
  },
  {
   "cell_type": "code",
   "execution_count": null,
   "metadata": {
    "pycharm": {
     "is_executing": false,
     "name": "#%%\n"
    }
   },
   "outputs": [],
   "source": [
    "transition_model.covar(time_interval=timedelta(seconds=1))"
   ]
  },
  {
   "cell_type": "markdown",
   "metadata": {},
   "source": [
    "Predictor-Komponente programmieren um $x_{k|k-1}$ zu bekommen"
   ]
  },
  {
   "cell_type": "code",
   "execution_count": null,
   "metadata": {
    "pycharm": {
     "is_executing": false,
     "name": "#%%\n"
    }
   },
   "outputs": [],
   "source": [
    "from stonesoup.predictor.kalman import KalmanPredictor\n",
    "from tutorienklassen import SdfKalmanPredictor\n",
    "predictor_Kalman = KalmanPredictor(transition_model_Kalman)\n",
    "predictor = SdfKalmanPredictor(transition_model)"
   ]
  },
  {
   "cell_type": "markdown",
   "metadata": {},
   "source": [
    "Als nächstes Messmodell erstellen"
   ]
  },
  {
   "cell_type": "code",
   "execution_count": null,
   "metadata": {
    "pycharm": {
     "is_executing": false,
     "name": "#%%\n"
    }
   },
   "outputs": [],
   "source": [
    "from stonesoup.models.measurement.linear import LinearGaussian\n",
    "from tutorienklassen import SDFMessmodell\n",
    "measurement_model = SDFMessmodell(\n",
    "    4, # Number of state dimensions (position and velocity in 2D)\n",
    "    (0, 2), # Mapping measurement vector index to state index\n",
    "    np.array([[np.power(50, 2), 0],  # Covariance matrix for Gaussian PDF\n",
    "              [0, np.power(50, 2)]])\n",
    "    )\n",
    "measurement_model_Kalman = LinearGaussian(4, (0, 2), np.array([[2500, 0], [0, 2500]]))"
   ]
  },
  {
   "cell_type": "markdown",
   "metadata": {},
   "source": [
    "Damit erhalten wir die Messmatrix $H$ und das Messrauschen $R$."
   ]
  },
  {
   "cell_type": "code",
   "execution_count": null,
   "metadata": {
    "pycharm": {
     "is_executing": false,
     "name": "#%%\n"
    }
   },
   "outputs": [],
   "source": [
    "measurement_model.matrix()"
   ]
  },
  {
   "cell_type": "code",
   "execution_count": null,
   "metadata": {
    "pycharm": {
     "is_executing": false,
     "name": "#%%\n"
    }
   },
   "outputs": [],
   "source": [
    "measurement_model.covar()"
   ]
  },
  {
   "cell_type": "markdown",
   "metadata": {},
   "source": [
    "Filter bauen, der anhand einer Messung $x_{k|k}$ berechnet"
   ]
  },
  {
   "cell_type": "code",
   "execution_count": null,
   "metadata": {
    "pycharm": {
     "is_executing": false,
     "name": "#%%\n"
    }
   },
   "outputs": [],
   "source": [
    "from stonesoup.updater.kalman import KalmanUpdater\n",
    "from tutorienklassen import SDFUpdater\n",
    "updater = SDFUpdater(measurement_model)\n",
    "updaterKalman = KalmanUpdater(measurement_model_Kalman)"
   ]
  },
  {
   "cell_type": "markdown",
   "metadata": {},
   "source": [
    "Kalman-Filter ausführen\n",
    "-----------------------\n",
    "Alle Komponenten sind kreiert, jetzt Startzustand wählen"
   ]
  },
  {
   "cell_type": "code",
   "execution_count": null,
   "metadata": {
    "pycharm": {
     "is_executing": false,
     "name": "#%%\n"
    }
   },
   "outputs": [],
   "source": [
    "from stonesoup.types.state import GaussianState\n",
    "prior = GaussianState([[0], [1], [0], [1]], np.diag([10.5, 0.5, 10.5, 0.5]))\n",
    "prior_Kalman = GaussianState([[0], [1], [0], [1]], np.diag([10.5, 0.5, 10.5, 0.5]), timestamp=start_time)"
   ]
  },
  {
   "cell_type": "markdown",
   "metadata": {},
   "source": [
    "Alle Messungen durchgehen, prädizieren und updaten.\n",
    "Komponenten zum Test/Vergleich doppelt"
   ]
  },
  {
   "cell_type": "code",
   "execution_count": null,
   "outputs": [],
   "source": [
    "from stonesoup.types.hypothesis import SingleHypothesis\n",
    "from stonesoup.types.track import Track\n",
    "\n",
    "track = Track()\n",
    "track_Kalman = Track()\n",
    "for measurement in measurements:\n",
    "    prediction = predictor.predict(prior)\n",
    "    prediction_Kalman = predictor_Kalman.predict(prior_Kalman, timestamp=measurement.timestamp)\n",
    "    \n",
    "    hypothesis = SingleHypothesis(prediction, measurement) # Used to group a prediction and measurement together\n",
    "    hypothesis_Kalman = SingleHypothesis(prediction_Kalman, measurement)\n",
    "    \n",
    "    post = updater.update(hypothesis, measurement_model)\n",
    "    post_Kalman = updaterKalman.update(hypothesis_Kalman)\n",
    "    \n",
    "    track.append(post)\n",
    "    track_Kalman.append(post_Kalman)\n",
    "    \n",
    "    prior = track[-1]\n",
    "    prior_Kalman = track_Kalman[-1]\n",
    "\n",
    "# Plot the resulting track\n",
    "ax.plot([state.state_vector[0, 0] for state in track], \n",
    "        [state.state_vector[2, 0] for state in track],\n",
    "        marker=\".\", color = \"yellow\")\n",
    "\n",
    "ax.plot([state.state_vector[0, 0] for state in track_Kalman], \n",
    "        [state.state_vector[2, 0] for state in track_Kalman],\n",
    "        marker=\".\", color = \"red\")\n",
    "figure"
   ],
   "metadata": {
    "collapsed": false,
    "pycharm": {
     "name": "#%%\n",
     "is_executing": false
    }
   }
  },
  {
   "cell_type": "code",
   "execution_count": null,
   "outputs": [],
   "source": [
    "from matplotlib.patches import Ellipse\n",
    "for state in track:\n",
    "    w, v = np.linalg.eig(measurement_model.matrix()@state.covar@measurement_model.matrix().T)\n",
    "    max_ind = np.argmax(v[0, :])\n",
    "    orient = np.arctan2(v[max_ind, 1], v[max_ind, 0])\n",
    "    ellipse = Ellipse(xy=state.state_vector[(0,2), 0],\n",
    "                      width=np.sqrt(w[0])*50, height=np.sqrt(w[1])*50,\n",
    "                      angle=np.rad2deg(orient),\n",
    "                      alpha=0.2)\n",
    "    ax.add_artist(ellipse)\n",
    "figure"
   ],
   "metadata": {
    "collapsed": false,
    "pycharm": {
     "name": "#%%\n",
     "is_executing": false
    }
   }
  }
 ],
 "metadata": {
  "kernelspec": {
   "display_name": "PyCharm (stonesoupFKIE)",
   "language": "python",
   "name": "pycharm-279e87eb"
  },
  "language_info": {
   "codemirror_mode": {
    "name": "ipython",
    "version": 3
   },
   "file_extension": ".py",
   "mimetype": "text/x-python",
   "name": "python",
   "nbconvert_exporter": "python",
   "pygments_lexer": "ipython3",
   "version": "3.6.8"
  },
  "pycharm": {
   "stem_cell": {
    "cell_type": "raw",
    "source": [],
    "metadata": {
     "collapsed": false
    }
   }
  }
 },
 "nbformat": 4,
 "nbformat_minor": 1
}